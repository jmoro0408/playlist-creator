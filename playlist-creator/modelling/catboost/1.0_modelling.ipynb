{
 "cells": [
  {
   "cell_type": "code",
   "execution_count": 2,
   "metadata": {},
   "outputs": [
    {
     "name": "stdout",
     "output_type": "stream",
     "text": [
      "catboost version: 1.0.6\n",
      "Python 3.10.4\n"
     ]
    }
   ],
   "source": [
    "import catboost\n",
    "from catboost import Pool, FeaturesData, CatBoostClassifier, CatBoost\n",
    "import pandas as pd\n",
    "import os\n",
    "import numpy as np\n",
    "from copy import deepcopy\n",
    "from sklearn.model_selection import train_test_split\n",
    "import pickle\n",
    "np.set_printoptions(precision=4)\n",
    "print(f\"catboost version: {catboost.__version__}\")\n",
    "!python --version"
   ]
  },
  {
   "cell_type": "markdown",
   "metadata": {},
   "source": [
    "# Reading the data"
   ]
  },
  {
   "cell_type": "code",
   "execution_count": 3,
   "metadata": {},
   "outputs": [],
   "source": [
    "data_filepath = r\"/Users/jamesmoro/Documents/Python/playlist-recommender/playlist-creator/data/playlist_df.pkl\""
   ]
  },
  {
   "cell_type": "code",
   "execution_count": 4,
   "metadata": {},
   "outputs": [],
   "source": [
    "raw_df = pd.read_pickle(data_filepath)"
   ]
  },
  {
   "cell_type": "code",
   "execution_count": 5,
   "metadata": {},
   "outputs": [],
   "source": [
    "df = raw_df.copy()"
   ]
  },
  {
   "cell_type": "code",
   "execution_count": 6,
   "metadata": {},
   "outputs": [
    {
     "data": {
      "text/html": [
       "<div>\n",
       "<style scoped>\n",
       "    .dataframe tbody tr th:only-of-type {\n",
       "        vertical-align: middle;\n",
       "    }\n",
       "\n",
       "    .dataframe tbody tr th {\n",
       "        vertical-align: top;\n",
       "    }\n",
       "\n",
       "    .dataframe thead th {\n",
       "        text-align: right;\n",
       "    }\n",
       "</style>\n",
       "<table border=\"1\" class=\"dataframe\">\n",
       "  <thead>\n",
       "    <tr style=\"text-align: right;\">\n",
       "      <th></th>\n",
       "      <th>danceability</th>\n",
       "      <th>energy</th>\n",
       "      <th>key</th>\n",
       "      <th>loudness</th>\n",
       "      <th>mode</th>\n",
       "      <th>speechiness</th>\n",
       "      <th>acousticness</th>\n",
       "      <th>instrumentalness</th>\n",
       "      <th>liveness</th>\n",
       "      <th>valence</th>\n",
       "      <th>...</th>\n",
       "      <th>type</th>\n",
       "      <th>id</th>\n",
       "      <th>uri</th>\n",
       "      <th>track_href</th>\n",
       "      <th>analysis_url</th>\n",
       "      <th>duration_ms</th>\n",
       "      <th>time_signature</th>\n",
       "      <th>artist_names</th>\n",
       "      <th>track_names</th>\n",
       "      <th>playlist_name</th>\n",
       "    </tr>\n",
       "  </thead>\n",
       "  <tbody>\n",
       "    <tr>\n",
       "      <th>0</th>\n",
       "      <td>0.506</td>\n",
       "      <td>0.805</td>\n",
       "      <td>1</td>\n",
       "      <td>-4.119</td>\n",
       "      <td>1</td>\n",
       "      <td>0.0469</td>\n",
       "      <td>0.00711</td>\n",
       "      <td>0.00193</td>\n",
       "      <td>0.0856</td>\n",
       "      <td>0.383</td>\n",
       "      <td>...</td>\n",
       "      <td>audio_features</td>\n",
       "      <td>46lFttIf5hnUZMGvjK0Wxo</td>\n",
       "      <td>spotify:track:46lFttIf5hnUZMGvjK0Wxo</td>\n",
       "      <td>https://api.spotify.com/v1/tracks/46lFttIf5hnU...</td>\n",
       "      <td>https://api.spotify.com/v1/audio-analysis/46lF...</td>\n",
       "      <td>227074</td>\n",
       "      <td>4</td>\n",
       "      <td>Galantis</td>\n",
       "      <td>Runaway (U &amp; I)</td>\n",
       "      <td>briz party songz</td>\n",
       "    </tr>\n",
       "    <tr>\n",
       "      <th>1</th>\n",
       "      <td>0.490</td>\n",
       "      <td>0.811</td>\n",
       "      <td>1</td>\n",
       "      <td>-2.524</td>\n",
       "      <td>0</td>\n",
       "      <td>0.0440</td>\n",
       "      <td>0.08960</td>\n",
       "      <td>0.00000</td>\n",
       "      <td>0.0898</td>\n",
       "      <td>0.547</td>\n",
       "      <td>...</td>\n",
       "      <td>audio_features</td>\n",
       "      <td>5BIgbz2Dy7X2I0bnkKH9Mb</td>\n",
       "      <td>spotify:track:5BIgbz2Dy7X2I0bnkKH9Mb</td>\n",
       "      <td>https://api.spotify.com/v1/tracks/5BIgbz2Dy7X2...</td>\n",
       "      <td>https://api.spotify.com/v1/audio-analysis/5BIg...</td>\n",
       "      <td>200992</td>\n",
       "      <td>4</td>\n",
       "      <td>Tim Berg</td>\n",
       "      <td>Seek Bromance (Avicii Vocal Edit)</td>\n",
       "      <td>briz party songz</td>\n",
       "    </tr>\n",
       "    <tr>\n",
       "      <th>2</th>\n",
       "      <td>0.527</td>\n",
       "      <td>0.835</td>\n",
       "      <td>6</td>\n",
       "      <td>-5.298</td>\n",
       "      <td>1</td>\n",
       "      <td>0.0433</td>\n",
       "      <td>0.01660</td>\n",
       "      <td>0.00000</td>\n",
       "      <td>0.2490</td>\n",
       "      <td>0.654</td>\n",
       "      <td>...</td>\n",
       "      <td>audio_features</td>\n",
       "      <td>0ct6r3EGTcMLPtrXHDvVjc</td>\n",
       "      <td>spotify:track:0ct6r3EGTcMLPtrXHDvVjc</td>\n",
       "      <td>https://api.spotify.com/v1/tracks/0ct6r3EGTcML...</td>\n",
       "      <td>https://api.spotify.com/v1/audio-analysis/0ct6...</td>\n",
       "      <td>176658</td>\n",
       "      <td>4</td>\n",
       "      <td>Avicii</td>\n",
       "      <td>The Nights</td>\n",
       "      <td>briz party songz</td>\n",
       "    </tr>\n",
       "    <tr>\n",
       "      <th>3</th>\n",
       "      <td>0.633</td>\n",
       "      <td>0.818</td>\n",
       "      <td>1</td>\n",
       "      <td>-5.437</td>\n",
       "      <td>1</td>\n",
       "      <td>0.0376</td>\n",
       "      <td>0.01140</td>\n",
       "      <td>0.00000</td>\n",
       "      <td>0.2590</td>\n",
       "      <td>0.337</td>\n",
       "      <td>...</td>\n",
       "      <td>audio_features</td>\n",
       "      <td>5r3aYGutXgsxSqB6W3RrzJ</td>\n",
       "      <td>spotify:track:5r3aYGutXgsxSqB6W3RrzJ</td>\n",
       "      <td>https://api.spotify.com/v1/tracks/5r3aYGutXgsx...</td>\n",
       "      <td>https://api.spotify.com/v1/audio-analysis/5r3a...</td>\n",
       "      <td>193481</td>\n",
       "      <td>4</td>\n",
       "      <td>The Magician</td>\n",
       "      <td>Sunlight (feat. Years and Years) - Radio Edit</td>\n",
       "      <td>briz party songz</td>\n",
       "    </tr>\n",
       "    <tr>\n",
       "      <th>4</th>\n",
       "      <td>0.662</td>\n",
       "      <td>0.858</td>\n",
       "      <td>2</td>\n",
       "      <td>-4.844</td>\n",
       "      <td>1</td>\n",
       "      <td>0.0428</td>\n",
       "      <td>0.00163</td>\n",
       "      <td>0.00000</td>\n",
       "      <td>0.0456</td>\n",
       "      <td>0.295</td>\n",
       "      <td>...</td>\n",
       "      <td>audio_features</td>\n",
       "      <td>6Pgkp4qUoTmJIPn7ReaGxL</td>\n",
       "      <td>spotify:track:6Pgkp4qUoTmJIPn7ReaGxL</td>\n",
       "      <td>https://api.spotify.com/v1/tracks/6Pgkp4qUoTmJ...</td>\n",
       "      <td>https://api.spotify.com/v1/audio-analysis/6Pgk...</td>\n",
       "      <td>181673</td>\n",
       "      <td>4</td>\n",
       "      <td>Avicii</td>\n",
       "      <td>Without You (feat. Sandro Cavazza)</td>\n",
       "      <td>briz party songz</td>\n",
       "    </tr>\n",
       "  </tbody>\n",
       "</table>\n",
       "<p>5 rows × 21 columns</p>\n",
       "</div>"
      ],
      "text/plain": [
       "   danceability  energy  key  loudness  mode  speechiness  acousticness  \\\n",
       "0         0.506   0.805    1    -4.119     1       0.0469       0.00711   \n",
       "1         0.490   0.811    1    -2.524     0       0.0440       0.08960   \n",
       "2         0.527   0.835    6    -5.298     1       0.0433       0.01660   \n",
       "3         0.633   0.818    1    -5.437     1       0.0376       0.01140   \n",
       "4         0.662   0.858    2    -4.844     1       0.0428       0.00163   \n",
       "\n",
       "   instrumentalness  liveness  valence  ...            type  \\\n",
       "0           0.00193    0.0856    0.383  ...  audio_features   \n",
       "1           0.00000    0.0898    0.547  ...  audio_features   \n",
       "2           0.00000    0.2490    0.654  ...  audio_features   \n",
       "3           0.00000    0.2590    0.337  ...  audio_features   \n",
       "4           0.00000    0.0456    0.295  ...  audio_features   \n",
       "\n",
       "                       id                                   uri  \\\n",
       "0  46lFttIf5hnUZMGvjK0Wxo  spotify:track:46lFttIf5hnUZMGvjK0Wxo   \n",
       "1  5BIgbz2Dy7X2I0bnkKH9Mb  spotify:track:5BIgbz2Dy7X2I0bnkKH9Mb   \n",
       "2  0ct6r3EGTcMLPtrXHDvVjc  spotify:track:0ct6r3EGTcMLPtrXHDvVjc   \n",
       "3  5r3aYGutXgsxSqB6W3RrzJ  spotify:track:5r3aYGutXgsxSqB6W3RrzJ   \n",
       "4  6Pgkp4qUoTmJIPn7ReaGxL  spotify:track:6Pgkp4qUoTmJIPn7ReaGxL   \n",
       "\n",
       "                                          track_href  \\\n",
       "0  https://api.spotify.com/v1/tracks/46lFttIf5hnU...   \n",
       "1  https://api.spotify.com/v1/tracks/5BIgbz2Dy7X2...   \n",
       "2  https://api.spotify.com/v1/tracks/0ct6r3EGTcML...   \n",
       "3  https://api.spotify.com/v1/tracks/5r3aYGutXgsx...   \n",
       "4  https://api.spotify.com/v1/tracks/6Pgkp4qUoTmJ...   \n",
       "\n",
       "                                        analysis_url duration_ms  \\\n",
       "0  https://api.spotify.com/v1/audio-analysis/46lF...      227074   \n",
       "1  https://api.spotify.com/v1/audio-analysis/5BIg...      200992   \n",
       "2  https://api.spotify.com/v1/audio-analysis/0ct6...      176658   \n",
       "3  https://api.spotify.com/v1/audio-analysis/5r3a...      193481   \n",
       "4  https://api.spotify.com/v1/audio-analysis/6Pgk...      181673   \n",
       "\n",
       "   time_signature  artist_names  \\\n",
       "0               4      Galantis   \n",
       "1               4      Tim Berg   \n",
       "2               4        Avicii   \n",
       "3               4  The Magician   \n",
       "4               4        Avicii   \n",
       "\n",
       "                                     track_names     playlist_name  \n",
       "0                                Runaway (U & I)  briz party songz  \n",
       "1              Seek Bromance (Avicii Vocal Edit)  briz party songz  \n",
       "2                                     The Nights  briz party songz  \n",
       "3  Sunlight (feat. Years and Years) - Radio Edit  briz party songz  \n",
       "4             Without You (feat. Sandro Cavazza)  briz party songz  \n",
       "\n",
       "[5 rows x 21 columns]"
      ]
     },
     "execution_count": 6,
     "metadata": {},
     "output_type": "execute_result"
    }
   ],
   "source": [
    "df.head()"
   ]
  },
  {
   "cell_type": "markdown",
   "metadata": {},
   "source": [
    "# Preparing the data"
   ]
  },
  {
   "cell_type": "markdown",
   "metadata": {},
   "source": [
    "## Column Removal"
   ]
  },
  {
   "cell_type": "code",
   "execution_count": 7,
   "metadata": {},
   "outputs": [
    {
     "data": {
      "text/plain": [
       "Index(['danceability', 'energy', 'key', 'loudness', 'mode', 'speechiness',\n",
       "       'acousticness', 'instrumentalness', 'liveness', 'valence', 'tempo',\n",
       "       'type', 'id', 'uri', 'track_href', 'analysis_url', 'duration_ms',\n",
       "       'time_signature', 'artist_names', 'track_names', 'playlist_name'],\n",
       "      dtype='object')"
      ]
     },
     "execution_count": 7,
     "metadata": {},
     "output_type": "execute_result"
    }
   ],
   "source": [
    "df.columns"
   ]
  },
  {
   "cell_type": "code",
   "execution_count": 8,
   "metadata": {},
   "outputs": [],
   "source": [
    "useless_cols = [\"type\", \"id\", \"uri\", \"track_href\", \"analysis_url\"]"
   ]
  },
  {
   "cell_type": "code",
   "execution_count": 9,
   "metadata": {},
   "outputs": [],
   "source": [
    "df = df.drop(useless_cols, axis = 1)"
   ]
  },
  {
   "cell_type": "code",
   "execution_count": 10,
   "metadata": {},
   "outputs": [
    {
     "data": {
      "text/html": [
       "<div>\n",
       "<style scoped>\n",
       "    .dataframe tbody tr th:only-of-type {\n",
       "        vertical-align: middle;\n",
       "    }\n",
       "\n",
       "    .dataframe tbody tr th {\n",
       "        vertical-align: top;\n",
       "    }\n",
       "\n",
       "    .dataframe thead th {\n",
       "        text-align: right;\n",
       "    }\n",
       "</style>\n",
       "<table border=\"1\" class=\"dataframe\">\n",
       "  <thead>\n",
       "    <tr style=\"text-align: right;\">\n",
       "      <th></th>\n",
       "      <th>danceability</th>\n",
       "      <th>energy</th>\n",
       "      <th>key</th>\n",
       "      <th>loudness</th>\n",
       "      <th>mode</th>\n",
       "      <th>speechiness</th>\n",
       "      <th>acousticness</th>\n",
       "      <th>instrumentalness</th>\n",
       "      <th>liveness</th>\n",
       "      <th>valence</th>\n",
       "      <th>tempo</th>\n",
       "      <th>duration_ms</th>\n",
       "      <th>time_signature</th>\n",
       "      <th>artist_names</th>\n",
       "      <th>track_names</th>\n",
       "      <th>playlist_name</th>\n",
       "    </tr>\n",
       "  </thead>\n",
       "  <tbody>\n",
       "    <tr>\n",
       "      <th>0</th>\n",
       "      <td>0.506</td>\n",
       "      <td>0.805</td>\n",
       "      <td>1</td>\n",
       "      <td>-4.119</td>\n",
       "      <td>1</td>\n",
       "      <td>0.0469</td>\n",
       "      <td>0.00711</td>\n",
       "      <td>0.00193</td>\n",
       "      <td>0.0856</td>\n",
       "      <td>0.383</td>\n",
       "      <td>126.008</td>\n",
       "      <td>227074</td>\n",
       "      <td>4</td>\n",
       "      <td>Galantis</td>\n",
       "      <td>Runaway (U &amp; I)</td>\n",
       "      <td>briz party songz</td>\n",
       "    </tr>\n",
       "    <tr>\n",
       "      <th>1</th>\n",
       "      <td>0.490</td>\n",
       "      <td>0.811</td>\n",
       "      <td>1</td>\n",
       "      <td>-2.524</td>\n",
       "      <td>0</td>\n",
       "      <td>0.0440</td>\n",
       "      <td>0.08960</td>\n",
       "      <td>0.00000</td>\n",
       "      <td>0.0898</td>\n",
       "      <td>0.547</td>\n",
       "      <td>125.965</td>\n",
       "      <td>200992</td>\n",
       "      <td>4</td>\n",
       "      <td>Tim Berg</td>\n",
       "      <td>Seek Bromance (Avicii Vocal Edit)</td>\n",
       "      <td>briz party songz</td>\n",
       "    </tr>\n",
       "    <tr>\n",
       "      <th>2</th>\n",
       "      <td>0.527</td>\n",
       "      <td>0.835</td>\n",
       "      <td>6</td>\n",
       "      <td>-5.298</td>\n",
       "      <td>1</td>\n",
       "      <td>0.0433</td>\n",
       "      <td>0.01660</td>\n",
       "      <td>0.00000</td>\n",
       "      <td>0.2490</td>\n",
       "      <td>0.654</td>\n",
       "      <td>125.983</td>\n",
       "      <td>176658</td>\n",
       "      <td>4</td>\n",
       "      <td>Avicii</td>\n",
       "      <td>The Nights</td>\n",
       "      <td>briz party songz</td>\n",
       "    </tr>\n",
       "    <tr>\n",
       "      <th>3</th>\n",
       "      <td>0.633</td>\n",
       "      <td>0.818</td>\n",
       "      <td>1</td>\n",
       "      <td>-5.437</td>\n",
       "      <td>1</td>\n",
       "      <td>0.0376</td>\n",
       "      <td>0.01140</td>\n",
       "      <td>0.00000</td>\n",
       "      <td>0.2590</td>\n",
       "      <td>0.337</td>\n",
       "      <td>121.975</td>\n",
       "      <td>193481</td>\n",
       "      <td>4</td>\n",
       "      <td>The Magician</td>\n",
       "      <td>Sunlight (feat. Years and Years) - Radio Edit</td>\n",
       "      <td>briz party songz</td>\n",
       "    </tr>\n",
       "    <tr>\n",
       "      <th>4</th>\n",
       "      <td>0.662</td>\n",
       "      <td>0.858</td>\n",
       "      <td>2</td>\n",
       "      <td>-4.844</td>\n",
       "      <td>1</td>\n",
       "      <td>0.0428</td>\n",
       "      <td>0.00163</td>\n",
       "      <td>0.00000</td>\n",
       "      <td>0.0456</td>\n",
       "      <td>0.295</td>\n",
       "      <td>133.993</td>\n",
       "      <td>181673</td>\n",
       "      <td>4</td>\n",
       "      <td>Avicii</td>\n",
       "      <td>Without You (feat. Sandro Cavazza)</td>\n",
       "      <td>briz party songz</td>\n",
       "    </tr>\n",
       "  </tbody>\n",
       "</table>\n",
       "</div>"
      ],
      "text/plain": [
       "   danceability  energy  key  loudness  mode  speechiness  acousticness  \\\n",
       "0         0.506   0.805    1    -4.119     1       0.0469       0.00711   \n",
       "1         0.490   0.811    1    -2.524     0       0.0440       0.08960   \n",
       "2         0.527   0.835    6    -5.298     1       0.0433       0.01660   \n",
       "3         0.633   0.818    1    -5.437     1       0.0376       0.01140   \n",
       "4         0.662   0.858    2    -4.844     1       0.0428       0.00163   \n",
       "\n",
       "   instrumentalness  liveness  valence    tempo  duration_ms  time_signature  \\\n",
       "0           0.00193    0.0856    0.383  126.008       227074               4   \n",
       "1           0.00000    0.0898    0.547  125.965       200992               4   \n",
       "2           0.00000    0.2490    0.654  125.983       176658               4   \n",
       "3           0.00000    0.2590    0.337  121.975       193481               4   \n",
       "4           0.00000    0.0456    0.295  133.993       181673               4   \n",
       "\n",
       "   artist_names                                    track_names  \\\n",
       "0      Galantis                                Runaway (U & I)   \n",
       "1      Tim Berg              Seek Bromance (Avicii Vocal Edit)   \n",
       "2        Avicii                                     The Nights   \n",
       "3  The Magician  Sunlight (feat. Years and Years) - Radio Edit   \n",
       "4        Avicii             Without You (feat. Sandro Cavazza)   \n",
       "\n",
       "      playlist_name  \n",
       "0  briz party songz  \n",
       "1  briz party songz  \n",
       "2  briz party songz  \n",
       "3  briz party songz  \n",
       "4  briz party songz  "
      ]
     },
     "execution_count": 10,
     "metadata": {},
     "output_type": "execute_result"
    }
   ],
   "source": [
    "df.head()"
   ]
  },
  {
   "cell_type": "markdown",
   "metadata": {},
   "source": [
    "Label values extraction"
   ]
  },
  {
   "cell_type": "code",
   "execution_count": 11,
   "metadata": {},
   "outputs": [],
   "source": [
    "y = df['playlist_name']\n",
    "X = df.drop(['playlist_name'], axis = 1)"
   ]
  },
  {
   "cell_type": "markdown",
   "metadata": {},
   "source": [
    "Categorical features declaration"
   ]
  },
  {
   "cell_type": "code",
   "execution_count": 12,
   "metadata": {},
   "outputs": [
    {
     "data": {
      "text/plain": [
       "['artist_names', 'track_names', 'playlist_name']"
      ]
     },
     "execution_count": 12,
     "metadata": {},
     "output_type": "execute_result"
    }
   ],
   "source": [
    "cat_features_names = df.select_dtypes(include = ['object']).columns.to_list()\n",
    "cat_features_names"
   ]
  },
  {
   "cell_type": "code",
   "execution_count": 13,
   "metadata": {},
   "outputs": [
    {
     "data": {
      "text/plain": [
       "[13, 14]"
      ]
     },
     "execution_count": 13,
     "metadata": {},
     "output_type": "execute_result"
    }
   ],
   "source": [
    "cat_features = [X.columns.get_loc(c) for c in cat_features_names if c in X]\n",
    "cat_features"
   ]
  },
  {
   "cell_type": "markdown",
   "metadata": {},
   "source": [
    "Looking on label balance in dataset"
   ]
  },
  {
   "cell_type": "code",
   "execution_count": 14,
   "metadata": {},
   "outputs": [
    {
     "data": {
      "text/plain": [
       "Classic Rock                                                             340\n",
       "Discovered Weekly                                                        336\n",
       "Gym                                                                      218\n",
       "Summer Songs                                                             129\n",
       "Summer Tunes                                                             115\n",
       "80's Hits                                                                115\n",
       "60s/70s                                                                  113\n",
       "Chill                                                                     97\n",
       "Koala Kontrol                                                             90\n",
       "The Beatles                                                               77\n",
       "Your Top Songs 2019                                                       73\n",
       "Classical                                                                 73\n",
       "Guilty Pleasures                                                          66\n",
       "Driving                                                                   65\n",
       "Day of the Dead                                                           59\n",
       "The Doors                                                                 42\n",
       "Easy Sunday                                                               40\n",
       "Trance                                                                    37\n",
       "Floyd                                                                     36\n",
       "Old Summer Stuff                                                          35\n",
       "Austin 2.0                                                                33\n",
       "00s house party                                                           32\n",
       "Singer/Songwriter                                                         31\n",
       "The Closing Of Winterland: December 31, 1978                              27\n",
       "Oldies                                                                    27\n",
       "Explosive Choruses                                                        21\n",
       "The Only Living Boy in New York                                           18\n",
       "Live '72                                                                  17\n",
       "Austin                                                                    14\n",
       "Nuggets: Original Artyfacts from the First Psychedelic Era, 1965–1968     12\n",
       "Skull and Roses                                                           11\n",
       "briz party songz                                                          11\n",
       "Live/Dead                                                                  7\n",
       "Name: playlist_name, dtype: int64"
      ]
     },
     "execution_count": 14,
     "metadata": {},
     "output_type": "execute_result"
    }
   ],
   "source": [
    "y.value_counts()"
   ]
  },
  {
   "cell_type": "markdown",
   "metadata": {},
   "source": [
    "Create pool"
   ]
  },
  {
   "cell_type": "code",
   "execution_count": 15,
   "metadata": {},
   "outputs": [],
   "source": [
    "X_prepared = X.values.astype(str).astype(object)\n",
    "# For FeaturesData class categorial features must have type str\n",
    "\n",
    "pool = Pool(\n",
    "    data=FeaturesData(\n",
    "        cat_feature_data=X_prepared,\n",
    "        cat_feature_names=list(X)\n",
    "    ),\n",
    "    label=y.values\n",
    ")"
   ]
  },
  {
   "cell_type": "code",
   "execution_count": 16,
   "metadata": {},
   "outputs": [
    {
     "name": "stdout",
     "output_type": "stream",
     "text": [
      "Column names:\n",
      "['danceability', 'energy', 'key', 'loudness', 'mode', 'speechiness', 'acousticness', 'instrumentalness', 'liveness', 'valence', 'tempo', 'duration_ms', 'time_signature', 'artist_names', 'track_names']\n"
     ]
    }
   ],
   "source": [
    "print(\"Column names:\")\n",
    "print(pool.get_feature_names()) "
   ]
  },
  {
   "cell_type": "code",
   "execution_count": 17,
   "metadata": {},
   "outputs": [],
   "source": [
    "X_train, X_validation, y_train, y_validation = train_test_split(X, y, \n",
    "                                                                train_size=0.75, \n",
    "                                                                stratify = y, \n",
    "                                                                shuffle= True)"
   ]
  },
  {
   "cell_type": "markdown",
   "metadata": {},
   "source": [
    "# Modelling"
   ]
  },
  {
   "cell_type": "code",
   "execution_count": 23,
   "metadata": {},
   "outputs": [
    {
     "data": {
      "application/vnd.jupyter.widget-view+json": {
       "model_id": "7a9d8a9d60ec49b1b4cd1f71af193cac",
       "version_major": 2,
       "version_minor": 0
      },
      "text/plain": [
       "MetricVisualizer(layout=Layout(align_self='stretch', height='500px'))"
      ]
     },
     "metadata": {},
     "output_type": "display_data"
    },
    {
     "data": {
      "text/plain": [
       "<catboost.core.CatBoostClassifier at 0x7fecd7390370>"
      ]
     },
     "execution_count": 23,
     "metadata": {},
     "output_type": "execute_result"
    }
   ],
   "source": [
    "model = CatBoostClassifier(\n",
    "    iterations=500,\n",
    "    random_seed=43,\n",
    "    loss_function='MultiClass', \n",
    "    early_stopping_rounds=20\n",
    ")\n",
    "model.fit(\n",
    "    X_train, y_train,\n",
    "    cat_features=cat_features,\n",
    "    eval_set=(X_validation, y_validation),\n",
    "    verbose=False,\n",
    "    plot=True\n",
    ")"
   ]
  },
  {
   "cell_type": "code",
   "execution_count": 25,
   "metadata": {},
   "outputs": [
    {
     "name": "stdout",
     "output_type": "stream",
     "text": [
      "129\n"
     ]
    }
   ],
   "source": [
    "print(model.tree_count_)"
   ]
  },
  {
   "cell_type": "code",
   "execution_count": 27,
   "metadata": {},
   "outputs": [
    {
     "ename": "CatBoostError",
     "evalue": "catboost/private/libs/target/data_providers.cpp:405: Non-Multiclassification and Non-MultiTarget compatible metric (Logloss) specified for a multidimensional model",
     "output_type": "error",
     "traceback": [
      "\u001b[0;31m---------------------------------------------------------------------------\u001b[0m",
      "\u001b[0;31mCatBoostError\u001b[0m                             Traceback (most recent call last)",
      "\u001b[1;32m/Users/jamesmoro/Documents/Python/playlist-recommender/playlist-creator/modelling/catboost/1.0_modelling.ipynb Cell 27\u001b[0m in \u001b[0;36m<cell line: 6>\u001b[0;34m()\u001b[0m\n\u001b[1;32m      <a href='vscode-notebook-cell:/Users/jamesmoro/Documents/Python/playlist-recommender/playlist-creator/modelling/catboost/1.0_modelling.ipynb#X53sZmlsZQ%3D%3D?line=2'>3</a>\u001b[0m \u001b[39mfrom\u001b[39;00m \u001b[39msklearn\u001b[39;00m \u001b[39mimport\u001b[39;00m metrics\n\u001b[1;32m      <a href='vscode-notebook-cell:/Users/jamesmoro/Documents/Python/playlist-recommender/playlist-creator/modelling/catboost/1.0_modelling.ipynb#X53sZmlsZQ%3D%3D?line=4'>5</a>\u001b[0m eval_pool \u001b[39m=\u001b[39m Pool(X_validation, y_validation, cat_features\u001b[39m=\u001b[39mcat_features)\n\u001b[0;32m----> <a href='vscode-notebook-cell:/Users/jamesmoro/Documents/Python/playlist-recommender/playlist-creator/modelling/catboost/1.0_modelling.ipynb#X53sZmlsZQ%3D%3D?line=5'>6</a>\u001b[0m curve \u001b[39m=\u001b[39m get_roc_curve(model, eval_pool)\n\u001b[1;32m      <a href='vscode-notebook-cell:/Users/jamesmoro/Documents/Python/playlist-recommender/playlist-creator/modelling/catboost/1.0_modelling.ipynb#X53sZmlsZQ%3D%3D?line=6'>7</a>\u001b[0m (fpr, tpr, thresholds) \u001b[39m=\u001b[39m curve\n\u001b[1;32m      <a href='vscode-notebook-cell:/Users/jamesmoro/Documents/Python/playlist-recommender/playlist-creator/modelling/catboost/1.0_modelling.ipynb#X53sZmlsZQ%3D%3D?line=7'>8</a>\u001b[0m roc_auc \u001b[39m=\u001b[39m sklearn\u001b[39m.\u001b[39mmetrics\u001b[39m.\u001b[39mauc(fpr, tpr)\n",
      "File \u001b[0;32m/opt/miniconda3/envs/playlist-creator/lib/python3.10/site-packages/catboost/utils.py:366\u001b[0m, in \u001b[0;36mget_roc_curve\u001b[0;34m(model, data, thread_count, plot)\u001b[0m\n\u001b[1;32m    363\u001b[0m     \u001b[39mif\u001b[39;00m \u001b[39mnot\u001b[39;00m \u001b[39misinstance\u001b[39m(pool, Pool):\n\u001b[1;32m    364\u001b[0m         \u001b[39mraise\u001b[39;00m CatBoostError(\u001b[39m'\u001b[39m\u001b[39mone of data pools is not catboost.Pool\u001b[39m\u001b[39m'\u001b[39m)\n\u001b[0;32m--> 366\u001b[0m roc_curve \u001b[39m=\u001b[39m _get_roc_curve(model\u001b[39m.\u001b[39;49m_object, data, thread_count)\n\u001b[1;32m    368\u001b[0m \u001b[39mif\u001b[39;00m plot:\n\u001b[1;32m    369\u001b[0m     \u001b[39mwith\u001b[39;00m _import_matplotlib() \u001b[39mas\u001b[39;00m plt:\n",
      "File \u001b[0;32m_catboost.pyx:5862\u001b[0m, in \u001b[0;36m_catboost._get_roc_curve\u001b[0;34m()\u001b[0m\n",
      "File \u001b[0;32m_catboost.pyx:5867\u001b[0m, in \u001b[0;36m_catboost._get_roc_curve\u001b[0;34m()\u001b[0m\n",
      "\u001b[0;31mCatBoostError\u001b[0m: catboost/private/libs/target/data_providers.cpp:405: Non-Multiclassification and Non-MultiTarget compatible metric (Logloss) specified for a multidimensional model"
     ]
    }
   ],
   "source": [
    "from catboost.utils import get_roc_curve\n",
    "import sklearn\n",
    "from sklearn import metrics\n",
    "\n",
    "eval_pool = Pool(X_validation, y_validation, cat_features=cat_features)\n",
    "curve = get_roc_curve(model, eval_pool)\n",
    "(fpr, tpr, thresholds) = curve\n",
    "roc_auc = sklearn.metrics.auc(fpr, tpr)"
   ]
  },
  {
   "cell_type": "code",
   "execution_count": null,
   "metadata": {},
   "outputs": [],
   "source": []
  }
 ],
 "metadata": {
  "kernelspec": {
   "display_name": "Python 3.10.4 ('playlist-creator')",
   "language": "python",
   "name": "python3"
  },
  "language_info": {
   "codemirror_mode": {
    "name": "ipython",
    "version": 3
   },
   "file_extension": ".py",
   "mimetype": "text/x-python",
   "name": "python",
   "nbconvert_exporter": "python",
   "pygments_lexer": "ipython3",
   "version": "3.10.4"
  },
  "orig_nbformat": 4,
  "vscode": {
   "interpreter": {
    "hash": "b97f23f03363feb2857c74f4f539da46bfa500aff7c41ef02bb3fdf24f6c2adf"
   }
  }
 },
 "nbformat": 4,
 "nbformat_minor": 2
}
