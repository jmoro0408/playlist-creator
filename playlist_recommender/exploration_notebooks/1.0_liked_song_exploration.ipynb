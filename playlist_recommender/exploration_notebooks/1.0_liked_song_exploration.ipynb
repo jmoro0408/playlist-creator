{
 "cells": [
  {
   "cell_type": "code",
   "execution_count": 18,
   "metadata": {},
   "outputs": [],
   "source": [
    "from pathlib import Path\n",
    "import pandas as pd\n",
    "import matplotlib.pyplot as plt\n",
    "import seaborn as sns"
   ]
  },
  {
   "cell_type": "code",
   "execution_count": 8,
   "metadata": {},
   "outputs": [],
   "source": [
    "data_filepath = Path(Path().cwd().parent, \"data\", \"liked_songs_df.pkl\")"
   ]
  },
  {
   "cell_type": "code",
   "execution_count": 9,
   "metadata": {},
   "outputs": [],
   "source": [
    "raw_df = pd.read_pickle(data_filepath)\n",
    "df = raw_df.copy()"
   ]
  },
  {
   "cell_type": "code",
   "execution_count": 11,
   "metadata": {},
   "outputs": [
    {
     "data": {
      "text/html": [
       "<div>\n",
       "<style scoped>\n",
       "    .dataframe tbody tr th:only-of-type {\n",
       "        vertical-align: middle;\n",
       "    }\n",
       "\n",
       "    .dataframe tbody tr th {\n",
       "        vertical-align: top;\n",
       "    }\n",
       "\n",
       "    .dataframe thead th {\n",
       "        text-align: right;\n",
       "    }\n",
       "</style>\n",
       "<table border=\"1\" class=\"dataframe\">\n",
       "  <thead>\n",
       "    <tr style=\"text-align: right;\">\n",
       "      <th></th>\n",
       "      <th>danceability</th>\n",
       "      <th>energy</th>\n",
       "      <th>key</th>\n",
       "      <th>loudness</th>\n",
       "      <th>mode</th>\n",
       "      <th>speechiness</th>\n",
       "      <th>acousticness</th>\n",
       "      <th>instrumentalness</th>\n",
       "      <th>liveness</th>\n",
       "      <th>valence</th>\n",
       "      <th>tempo</th>\n",
       "      <th>type</th>\n",
       "      <th>id</th>\n",
       "      <th>uri</th>\n",
       "      <th>track_href</th>\n",
       "      <th>analysis_url</th>\n",
       "      <th>duration_ms</th>\n",
       "      <th>time_signature</th>\n",
       "      <th>artist_names</th>\n",
       "      <th>track_names</th>\n",
       "    </tr>\n",
       "  </thead>\n",
       "  <tbody>\n",
       "    <tr>\n",
       "      <th>0</th>\n",
       "      <td>0.533</td>\n",
       "      <td>0.826</td>\n",
       "      <td>10</td>\n",
       "      <td>-9.246</td>\n",
       "      <td>0</td>\n",
       "      <td>0.0580</td>\n",
       "      <td>0.02080</td>\n",
       "      <td>0.001880</td>\n",
       "      <td>0.3480</td>\n",
       "      <td>0.531</td>\n",
       "      <td>88.934</td>\n",
       "      <td>audio_features</td>\n",
       "      <td>4gad1qhsqNL63n9OyCDsjL</td>\n",
       "      <td>spotify:track:4gad1qhsqNL63n9OyCDsjL</td>\n",
       "      <td>https://api.spotify.com/v1/tracks/4gad1qhsqNL6...</td>\n",
       "      <td>https://api.spotify.com/v1/audio-analysis/4gad...</td>\n",
       "      <td>308353</td>\n",
       "      <td>4</td>\n",
       "      <td>Elton John</td>\n",
       "      <td>All The Girls Love Alice - Remastered 2014</td>\n",
       "    </tr>\n",
       "    <tr>\n",
       "      <th>1</th>\n",
       "      <td>0.627</td>\n",
       "      <td>0.478</td>\n",
       "      <td>3</td>\n",
       "      <td>-11.919</td>\n",
       "      <td>1</td>\n",
       "      <td>0.1260</td>\n",
       "      <td>0.64500</td>\n",
       "      <td>0.012300</td>\n",
       "      <td>0.0800</td>\n",
       "      <td>0.382</td>\n",
       "      <td>74.594</td>\n",
       "      <td>audio_features</td>\n",
       "      <td>0A449X6twasfhYiCQVoOgA</td>\n",
       "      <td>spotify:track:0A449X6twasfhYiCQVoOgA</td>\n",
       "      <td>https://api.spotify.com/v1/tracks/0A449X6twasf...</td>\n",
       "      <td>https://api.spotify.com/v1/audio-analysis/0A44...</td>\n",
       "      <td>193453</td>\n",
       "      <td>4</td>\n",
       "      <td>Brian Protheroe</td>\n",
       "      <td>Pinball</td>\n",
       "    </tr>\n",
       "    <tr>\n",
       "      <th>2</th>\n",
       "      <td>0.445</td>\n",
       "      <td>0.665</td>\n",
       "      <td>4</td>\n",
       "      <td>-7.764</td>\n",
       "      <td>0</td>\n",
       "      <td>0.0380</td>\n",
       "      <td>0.12700</td>\n",
       "      <td>0.024200</td>\n",
       "      <td>0.0943</td>\n",
       "      <td>0.146</td>\n",
       "      <td>169.048</td>\n",
       "      <td>audio_features</td>\n",
       "      <td>0lRntxZ0v1dEiueO1SUVnp</td>\n",
       "      <td>spotify:track:0lRntxZ0v1dEiueO1SUVnp</td>\n",
       "      <td>https://api.spotify.com/v1/tracks/0lRntxZ0v1dE...</td>\n",
       "      <td>https://api.spotify.com/v1/audio-analysis/0lRn...</td>\n",
       "      <td>285147</td>\n",
       "      <td>4</td>\n",
       "      <td>Lo Moon</td>\n",
       "      <td>Dream Never Dies</td>\n",
       "    </tr>\n",
       "    <tr>\n",
       "      <th>3</th>\n",
       "      <td>0.618</td>\n",
       "      <td>0.651</td>\n",
       "      <td>9</td>\n",
       "      <td>-7.811</td>\n",
       "      <td>1</td>\n",
       "      <td>0.0417</td>\n",
       "      <td>0.00808</td>\n",
       "      <td>0.688000</td>\n",
       "      <td>0.6460</td>\n",
       "      <td>0.965</td>\n",
       "      <td>169.995</td>\n",
       "      <td>audio_features</td>\n",
       "      <td>0naG5PyrfwJQ0xtuQ1BGCM</td>\n",
       "      <td>spotify:track:0naG5PyrfwJQ0xtuQ1BGCM</td>\n",
       "      <td>https://api.spotify.com/v1/tracks/0naG5PyrfwJQ...</td>\n",
       "      <td>https://api.spotify.com/v1/audio-analysis/0naG...</td>\n",
       "      <td>325325</td>\n",
       "      <td>4</td>\n",
       "      <td>Nation of Language</td>\n",
       "      <td>Across That Fine Line</td>\n",
       "    </tr>\n",
       "    <tr>\n",
       "      <th>4</th>\n",
       "      <td>0.361</td>\n",
       "      <td>0.901</td>\n",
       "      <td>4</td>\n",
       "      <td>-4.133</td>\n",
       "      <td>0</td>\n",
       "      <td>0.0443</td>\n",
       "      <td>0.00152</td>\n",
       "      <td>0.000246</td>\n",
       "      <td>0.2860</td>\n",
       "      <td>0.481</td>\n",
       "      <td>144.974</td>\n",
       "      <td>audio_features</td>\n",
       "      <td>3iyIyLjINbTV1Xzh8ef0sJ</td>\n",
       "      <td>spotify:track:3iyIyLjINbTV1Xzh8ef0sJ</td>\n",
       "      <td>https://api.spotify.com/v1/tracks/3iyIyLjINbTV...</td>\n",
       "      <td>https://api.spotify.com/v1/audio-analysis/3iyI...</td>\n",
       "      <td>217267</td>\n",
       "      <td>4</td>\n",
       "      <td>Harvey Danger</td>\n",
       "      <td>Flagpole Sitta</td>\n",
       "    </tr>\n",
       "  </tbody>\n",
       "</table>\n",
       "</div>"
      ],
      "text/plain": [
       "   danceability  energy  key  loudness  mode  speechiness  acousticness  \\\n",
       "0         0.533   0.826   10    -9.246     0       0.0580       0.02080   \n",
       "1         0.627   0.478    3   -11.919     1       0.1260       0.64500   \n",
       "2         0.445   0.665    4    -7.764     0       0.0380       0.12700   \n",
       "3         0.618   0.651    9    -7.811     1       0.0417       0.00808   \n",
       "4         0.361   0.901    4    -4.133     0       0.0443       0.00152   \n",
       "\n",
       "   instrumentalness  liveness  valence    tempo            type  \\\n",
       "0          0.001880    0.3480    0.531   88.934  audio_features   \n",
       "1          0.012300    0.0800    0.382   74.594  audio_features   \n",
       "2          0.024200    0.0943    0.146  169.048  audio_features   \n",
       "3          0.688000    0.6460    0.965  169.995  audio_features   \n",
       "4          0.000246    0.2860    0.481  144.974  audio_features   \n",
       "\n",
       "                       id                                   uri  \\\n",
       "0  4gad1qhsqNL63n9OyCDsjL  spotify:track:4gad1qhsqNL63n9OyCDsjL   \n",
       "1  0A449X6twasfhYiCQVoOgA  spotify:track:0A449X6twasfhYiCQVoOgA   \n",
       "2  0lRntxZ0v1dEiueO1SUVnp  spotify:track:0lRntxZ0v1dEiueO1SUVnp   \n",
       "3  0naG5PyrfwJQ0xtuQ1BGCM  spotify:track:0naG5PyrfwJQ0xtuQ1BGCM   \n",
       "4  3iyIyLjINbTV1Xzh8ef0sJ  spotify:track:3iyIyLjINbTV1Xzh8ef0sJ   \n",
       "\n",
       "                                          track_href  \\\n",
       "0  https://api.spotify.com/v1/tracks/4gad1qhsqNL6...   \n",
       "1  https://api.spotify.com/v1/tracks/0A449X6twasf...   \n",
       "2  https://api.spotify.com/v1/tracks/0lRntxZ0v1dE...   \n",
       "3  https://api.spotify.com/v1/tracks/0naG5PyrfwJQ...   \n",
       "4  https://api.spotify.com/v1/tracks/3iyIyLjINbTV...   \n",
       "\n",
       "                                        analysis_url  duration_ms  \\\n",
       "0  https://api.spotify.com/v1/audio-analysis/4gad...       308353   \n",
       "1  https://api.spotify.com/v1/audio-analysis/0A44...       193453   \n",
       "2  https://api.spotify.com/v1/audio-analysis/0lRn...       285147   \n",
       "3  https://api.spotify.com/v1/audio-analysis/0naG...       325325   \n",
       "4  https://api.spotify.com/v1/audio-analysis/3iyI...       217267   \n",
       "\n",
       "   time_signature        artist_names  \\\n",
       "0               4          Elton John   \n",
       "1               4     Brian Protheroe   \n",
       "2               4             Lo Moon   \n",
       "3               4  Nation of Language   \n",
       "4               4       Harvey Danger   \n",
       "\n",
       "                                  track_names  \n",
       "0  All The Girls Love Alice - Remastered 2014  \n",
       "1                                     Pinball  \n",
       "2                            Dream Never Dies  \n",
       "3                       Across That Fine Line  \n",
       "4                              Flagpole Sitta  "
      ]
     },
     "execution_count": 11,
     "metadata": {},
     "output_type": "execute_result"
    }
   ],
   "source": [
    "df.head()"
   ]
  },
  {
   "cell_type": "code",
   "execution_count": 12,
   "metadata": {},
   "outputs": [
    {
     "data": {
      "text/html": [
       "<div>\n",
       "<style scoped>\n",
       "    .dataframe tbody tr th:only-of-type {\n",
       "        vertical-align: middle;\n",
       "    }\n",
       "\n",
       "    .dataframe tbody tr th {\n",
       "        vertical-align: top;\n",
       "    }\n",
       "\n",
       "    .dataframe thead th {\n",
       "        text-align: right;\n",
       "    }\n",
       "</style>\n",
       "<table border=\"1\" class=\"dataframe\">\n",
       "  <thead>\n",
       "    <tr style=\"text-align: right;\">\n",
       "      <th></th>\n",
       "      <th>danceability</th>\n",
       "      <th>energy</th>\n",
       "      <th>key</th>\n",
       "      <th>loudness</th>\n",
       "      <th>mode</th>\n",
       "      <th>speechiness</th>\n",
       "      <th>acousticness</th>\n",
       "      <th>instrumentalness</th>\n",
       "      <th>liveness</th>\n",
       "      <th>valence</th>\n",
       "      <th>tempo</th>\n",
       "      <th>duration_ms</th>\n",
       "      <th>time_signature</th>\n",
       "    </tr>\n",
       "  </thead>\n",
       "  <tbody>\n",
       "    <tr>\n",
       "      <th>count</th>\n",
       "      <td>669.000000</td>\n",
       "      <td>669.000000</td>\n",
       "      <td>669.000000</td>\n",
       "      <td>669.000000</td>\n",
       "      <td>669.000000</td>\n",
       "      <td>669.000000</td>\n",
       "      <td>669.000000</td>\n",
       "      <td>669.000000</td>\n",
       "      <td>669.000000</td>\n",
       "      <td>669.000000</td>\n",
       "      <td>669.000000</td>\n",
       "      <td>669.000000</td>\n",
       "      <td>669.000000</td>\n",
       "    </tr>\n",
       "    <tr>\n",
       "      <th>mean</th>\n",
       "      <td>0.565413</td>\n",
       "      <td>0.626566</td>\n",
       "      <td>5.165919</td>\n",
       "      <td>-7.889987</td>\n",
       "      <td>0.662182</td>\n",
       "      <td>0.059745</td>\n",
       "      <td>0.278860</td>\n",
       "      <td>0.078667</td>\n",
       "      <td>0.184706</td>\n",
       "      <td>0.484757</td>\n",
       "      <td>119.148129</td>\n",
       "      <td>243620.678625</td>\n",
       "      <td>3.952167</td>\n",
       "    </tr>\n",
       "    <tr>\n",
       "      <th>std</th>\n",
       "      <td>0.145905</td>\n",
       "      <td>0.208290</td>\n",
       "      <td>3.467251</td>\n",
       "      <td>3.656671</td>\n",
       "      <td>0.473320</td>\n",
       "      <td>0.063160</td>\n",
       "      <td>0.289862</td>\n",
       "      <td>0.201444</td>\n",
       "      <td>0.159301</td>\n",
       "      <td>0.238667</td>\n",
       "      <td>29.209499</td>\n",
       "      <td>77172.100148</td>\n",
       "      <td>0.295853</td>\n",
       "    </tr>\n",
       "    <tr>\n",
       "      <th>min</th>\n",
       "      <td>0.086100</td>\n",
       "      <td>0.029500</td>\n",
       "      <td>0.000000</td>\n",
       "      <td>-29.830000</td>\n",
       "      <td>0.000000</td>\n",
       "      <td>0.024500</td>\n",
       "      <td>0.000013</td>\n",
       "      <td>0.000000</td>\n",
       "      <td>0.023300</td>\n",
       "      <td>0.034200</td>\n",
       "      <td>48.718000</td>\n",
       "      <td>30931.000000</td>\n",
       "      <td>1.000000</td>\n",
       "    </tr>\n",
       "    <tr>\n",
       "      <th>25%</th>\n",
       "      <td>0.468000</td>\n",
       "      <td>0.485000</td>\n",
       "      <td>2.000000</td>\n",
       "      <td>-9.785000</td>\n",
       "      <td>0.000000</td>\n",
       "      <td>0.032600</td>\n",
       "      <td>0.037000</td>\n",
       "      <td>0.000002</td>\n",
       "      <td>0.092700</td>\n",
       "      <td>0.296000</td>\n",
       "      <td>97.011000</td>\n",
       "      <td>198396.000000</td>\n",
       "      <td>4.000000</td>\n",
       "    </tr>\n",
       "    <tr>\n",
       "      <th>50%</th>\n",
       "      <td>0.579000</td>\n",
       "      <td>0.653000</td>\n",
       "      <td>5.000000</td>\n",
       "      <td>-7.098000</td>\n",
       "      <td>1.000000</td>\n",
       "      <td>0.040000</td>\n",
       "      <td>0.165000</td>\n",
       "      <td>0.000216</td>\n",
       "      <td>0.120000</td>\n",
       "      <td>0.485000</td>\n",
       "      <td>117.680000</td>\n",
       "      <td>225853.000000</td>\n",
       "      <td>4.000000</td>\n",
       "    </tr>\n",
       "    <tr>\n",
       "      <th>75%</th>\n",
       "      <td>0.666000</td>\n",
       "      <td>0.793000</td>\n",
       "      <td>8.000000</td>\n",
       "      <td>-5.362000</td>\n",
       "      <td>1.000000</td>\n",
       "      <td>0.059900</td>\n",
       "      <td>0.463000</td>\n",
       "      <td>0.015700</td>\n",
       "      <td>0.210000</td>\n",
       "      <td>0.671000</td>\n",
       "      <td>135.029000</td>\n",
       "      <td>268080.000000</td>\n",
       "      <td>4.000000</td>\n",
       "    </tr>\n",
       "    <tr>\n",
       "      <th>max</th>\n",
       "      <td>0.903000</td>\n",
       "      <td>0.995000</td>\n",
       "      <td>11.000000</td>\n",
       "      <td>-0.740000</td>\n",
       "      <td>1.000000</td>\n",
       "      <td>0.869000</td>\n",
       "      <td>0.986000</td>\n",
       "      <td>0.968000</td>\n",
       "      <td>0.968000</td>\n",
       "      <td>0.970000</td>\n",
       "      <td>207.969000</td>\n",
       "      <td>954293.000000</td>\n",
       "      <td>5.000000</td>\n",
       "    </tr>\n",
       "  </tbody>\n",
       "</table>\n",
       "</div>"
      ],
      "text/plain": [
       "       danceability      energy         key    loudness        mode  \\\n",
       "count    669.000000  669.000000  669.000000  669.000000  669.000000   \n",
       "mean       0.565413    0.626566    5.165919   -7.889987    0.662182   \n",
       "std        0.145905    0.208290    3.467251    3.656671    0.473320   \n",
       "min        0.086100    0.029500    0.000000  -29.830000    0.000000   \n",
       "25%        0.468000    0.485000    2.000000   -9.785000    0.000000   \n",
       "50%        0.579000    0.653000    5.000000   -7.098000    1.000000   \n",
       "75%        0.666000    0.793000    8.000000   -5.362000    1.000000   \n",
       "max        0.903000    0.995000   11.000000   -0.740000    1.000000   \n",
       "\n",
       "       speechiness  acousticness  instrumentalness    liveness     valence  \\\n",
       "count   669.000000    669.000000        669.000000  669.000000  669.000000   \n",
       "mean      0.059745      0.278860          0.078667    0.184706    0.484757   \n",
       "std       0.063160      0.289862          0.201444    0.159301    0.238667   \n",
       "min       0.024500      0.000013          0.000000    0.023300    0.034200   \n",
       "25%       0.032600      0.037000          0.000002    0.092700    0.296000   \n",
       "50%       0.040000      0.165000          0.000216    0.120000    0.485000   \n",
       "75%       0.059900      0.463000          0.015700    0.210000    0.671000   \n",
       "max       0.869000      0.986000          0.968000    0.968000    0.970000   \n",
       "\n",
       "            tempo    duration_ms  time_signature  \n",
       "count  669.000000     669.000000      669.000000  \n",
       "mean   119.148129  243620.678625        3.952167  \n",
       "std     29.209499   77172.100148        0.295853  \n",
       "min     48.718000   30931.000000        1.000000  \n",
       "25%     97.011000  198396.000000        4.000000  \n",
       "50%    117.680000  225853.000000        4.000000  \n",
       "75%    135.029000  268080.000000        4.000000  \n",
       "max    207.969000  954293.000000        5.000000  "
      ]
     },
     "execution_count": 12,
     "metadata": {},
     "output_type": "execute_result"
    }
   ],
   "source": [
    "df.describe()"
   ]
  },
  {
   "cell_type": "code",
   "execution_count": 13,
   "metadata": {},
   "outputs": [
    {
     "name": "stdout",
     "output_type": "stream",
     "text": [
      "<class 'pandas.core.frame.DataFrame'>\n",
      "RangeIndex: 669 entries, 0 to 668\n",
      "Data columns (total 20 columns):\n",
      " #   Column            Non-Null Count  Dtype  \n",
      "---  ------            --------------  -----  \n",
      " 0   danceability      669 non-null    float64\n",
      " 1   energy            669 non-null    float64\n",
      " 2   key               669 non-null    int64  \n",
      " 3   loudness          669 non-null    float64\n",
      " 4   mode              669 non-null    int64  \n",
      " 5   speechiness       669 non-null    float64\n",
      " 6   acousticness      669 non-null    float64\n",
      " 7   instrumentalness  669 non-null    float64\n",
      " 8   liveness          669 non-null    float64\n",
      " 9   valence           669 non-null    float64\n",
      " 10  tempo             669 non-null    float64\n",
      " 11  type              669 non-null    object \n",
      " 12  id                669 non-null    object \n",
      " 13  uri               669 non-null    object \n",
      " 14  track_href        669 non-null    object \n",
      " 15  analysis_url      669 non-null    object \n",
      " 16  duration_ms       669 non-null    int64  \n",
      " 17  time_signature    669 non-null    int64  \n",
      " 18  artist_names      669 non-null    object \n",
      " 19  track_names       669 non-null    object \n",
      "dtypes: float64(9), int64(4), object(7)\n",
      "memory usage: 104.7+ KB\n"
     ]
    }
   ],
   "source": [
    "df.info()"
   ]
  },
  {
   "cell_type": "code",
   "execution_count": 14,
   "metadata": {},
   "outputs": [
    {
     "data": {
      "text/plain": [
       "(669, 20)"
      ]
     },
     "execution_count": 14,
     "metadata": {},
     "output_type": "execute_result"
    }
   ],
   "source": [
    "df.shape"
   ]
  },
  {
   "cell_type": "code",
   "execution_count": 16,
   "metadata": {},
   "outputs": [],
   "source": [
    "df_nums = df.select_dtypes(include=\"number\")"
   ]
  },
  {
   "cell_type": "code",
   "execution_count": 19,
   "metadata": {},
   "outputs": [
    {
     "data": {
      "text/plain": [
       "(669, 13)"
      ]
     },
     "execution_count": 19,
     "metadata": {},
     "output_type": "execute_result"
    }
   ],
   "source": [
    "df_nums.shape"
   ]
  },
  {
   "cell_type": "code",
   "execution_count": 20,
   "metadata": {},
   "outputs": [
    {
     "data": {
      "text/plain": [
       "Index(['danceability', 'energy', 'key', 'loudness', 'mode', 'speechiness',\n",
       "       'acousticness', 'instrumentalness', 'liveness', 'valence', 'tempo',\n",
       "       'duration_ms', 'time_signature'],\n",
       "      dtype='object')"
      ]
     },
     "execution_count": 20,
     "metadata": {},
     "output_type": "execute_result"
    }
   ],
   "source": [
    "df_nums.columns"
   ]
  },
  {
   "cell_type": "code",
   "execution_count": 31,
   "metadata": {},
   "outputs": [],
   "source": [
    "df_features = df_nums.drop(\n",
    "    [\"duration_ms\", \"time_signature\", \"tempo\", \"key\", \"loudness\"], axis=1\n",
    ")"
   ]
  },
  {
   "cell_type": "code",
   "execution_count": 56,
   "metadata": {},
   "outputs": [],
   "source": [
    "sns.set()"
   ]
  },
  {
   "cell_type": "code",
   "execution_count": 57,
   "metadata": {},
   "outputs": [
    {
     "data": {
      "text/plain": [
       "<AxesSubplot:>"
      ]
     },
     "execution_count": 57,
     "metadata": {},
     "output_type": "execute_result"
    },
    {
     "data": {
      "image/png": "[encoded data removed]",
      "text/plain": [
       "<Figure size 640x480 with 1 Axes>"
      ]
     },
     "metadata": {},
     "output_type": "display_data"
    }
   ],
   "source": [
    "sns.boxplot(df_nums.drop([\"duration_ms\"], axis=1), orient=\"h\")"
   ]
  },
  {
   "cell_type": "code",
   "execution_count": 58,
   "metadata": {},
   "outputs": [
    {
     "data": {
      "text/plain": [
       "Text(0.5, 0, 'Feature value')"
      ]
     },
     "execution_count": 58,
     "metadata": {},
     "output_type": "execute_result"
    },
    {
     "data": {
      "image/png": "[encoded data removed]",
      "text/plain": [
       "<Figure size 640x480 with 1 Axes>"
      ]
     },
     "metadata": {},
     "output_type": "display_data"
    }
   ],
   "source": [
    "sns.boxplot(\n",
    "    df_nums.drop(\n",
    "        [\"duration_ms\", \"tempo\", \"loudness\", \"key\", \"mode\", \"time_signature\"], axis=1\n",
    "    ),\n",
    "    orient=\"h\",\n",
    ")\n",
    "plt.xlabel(\"Feature value\")"
   ]
  },
  {
   "cell_type": "code",
   "execution_count": 62,
   "metadata": {},
   "outputs": [
    {
     "data": {
      "text/html": [
       "<div>\n",
       "<style scoped>\n",
       "    .dataframe tbody tr th:only-of-type {\n",
       "        vertical-align: middle;\n",
       "    }\n",
       "\n",
       "    .dataframe tbody tr th {\n",
       "        vertical-align: top;\n",
       "    }\n",
       "\n",
       "    .dataframe thead th {\n",
       "        text-align: right;\n",
       "    }\n",
       "</style>\n",
       "<table border=\"1\" class=\"dataframe\">\n",
       "  <thead>\n",
       "    <tr style=\"text-align: right;\">\n",
       "      <th></th>\n",
       "      <th>artist_names</th>\n",
       "      <th>track_names</th>\n",
       "    </tr>\n",
       "  </thead>\n",
       "  <tbody>\n",
       "    <tr>\n",
       "      <th>597</th>\n",
       "      <td>Grateful Dead</td>\n",
       "      <td>Sugaree - Live at Pembroke Pines, FL, May 22, ...</td>\n",
       "    </tr>\n",
       "    <tr>\n",
       "      <th>109</th>\n",
       "      <td>Led Zeppelin</td>\n",
       "      <td>Stairway to Heaven - (Live at MSG 1973) [Remas...</td>\n",
       "    </tr>\n",
       "    <tr>\n",
       "      <th>103</th>\n",
       "      <td>Michael Kiwanuka</td>\n",
       "      <td>Cold Little Heart</td>\n",
       "    </tr>\n",
       "    <tr>\n",
       "      <th>21</th>\n",
       "      <td>Pigeons Playing Ping Pong</td>\n",
       "      <td>Horizon</td>\n",
       "    </tr>\n",
       "    <tr>\n",
       "      <th>96</th>\n",
       "      <td>Iron &amp; Wine</td>\n",
       "      <td>The Trapeze Swinger</td>\n",
       "    </tr>\n",
       "  </tbody>\n",
       "</table>\n",
       "</div>"
      ],
      "text/plain": [
       "                  artist_names  \\\n",
       "597              Grateful Dead   \n",
       "109               Led Zeppelin   \n",
       "103           Michael Kiwanuka   \n",
       "21   Pigeons Playing Ping Pong   \n",
       "96                 Iron & Wine   \n",
       "\n",
       "                                           track_names  \n",
       "597  Sugaree - Live at Pembroke Pines, FL, May 22, ...  \n",
       "109  Stairway to Heaven - (Live at MSG 1973) [Remas...  \n",
       "103                                  Cold Little Heart  \n",
       "21                                             Horizon  \n",
       "96                                 The Trapeze Swinger  "
      ]
     },
     "execution_count": 62,
     "metadata": {},
     "output_type": "execute_result"
    }
   ],
   "source": [
    "df.sort_values(by=\"duration_ms\", ascending=False)[\n",
    "    [\"artist_names\", \"track_names\"]\n",
    "].head()"
   ]
  },
  {
   "cell_type": "code",
   "execution_count": 59,
   "metadata": {},
   "outputs": [
    {
     "data": {
      "text/plain": [
       "429"
      ]
     },
     "execution_count": 59,
     "metadata": {},
     "output_type": "execute_result"
    }
   ],
   "source": [
    "df[\"artist_names\"].nunique()"
   ]
  },
  {
   "cell_type": "code",
   "execution_count": 61,
   "metadata": {},
   "outputs": [
    {
     "data": {
      "text/plain": [
       "Fleetwood Mac    13\n",
       "AWOLNATION       11\n",
       "Tame Impala      10\n",
       "Glass Animals    10\n",
       "Taylor Swift      8\n",
       "Name: artist_names, dtype: int64"
      ]
     },
     "execution_count": 61,
     "metadata": {},
     "output_type": "execute_result"
    }
   ],
   "source": [
    "df[\"artist_names\"].value_counts().head()"
   ]
  },
  {
   "cell_type": "code",
   "execution_count": null,
   "metadata": {},
   "outputs": [],
   "source": []
  }
 ],
 "metadata": {
  "kernelspec": {
   "display_name": "Python 3.10.4 ('playlist-creator')",
   "language": "python",
   "name": "python3"
  },
  "language_info": {
   "codemirror_mode": {
    "name": "ipython",
    "version": 3
   },
   "file_extension": ".py",
   "mimetype": "text/x-python",
   "name": "python",
   "nbconvert_exporter": "python",
   "pygments_lexer": "ipython3",
   "version": "3.10.4"
  },
  "orig_nbformat": 4,
  "vscode": {
   "interpreter": {
    "hash": "b97f23f03363feb2857c74f4f539da46bfa500aff7c41ef02bb3fdf24f6c2adf"
   }
  }
 },
 "nbformat": 4,
 "nbformat_minor": 2
}
