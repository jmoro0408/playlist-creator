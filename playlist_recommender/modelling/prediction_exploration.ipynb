{
 "cells": [
  {
   "cell_type": "code",
   "execution_count": 50,
   "metadata": {},
   "outputs": [],
   "source": [
    "import tensorflow as tf\n",
    "import pandas as pd\n",
    "import numpy as np\n",
    "from playlist_recommender.modelling import model_pipeline, utils\n",
    "import joblib\n",
    "import json\n",
    "import seaborn as sns\n",
    "import matplotlib.pyplot as plt\n",
    "import itertools\n",
    "from collections import Counter\n",
    "from pathlib import Path\n",
    "from scipy import stats\n",
    "from sklearn.preprocessing import MinMaxScaler"
   ]
  },
  {
   "cell_type": "markdown",
   "metadata": {},
   "source": [
    "# Function definitions"
   ]
  },
  {
   "cell_type": "code",
   "execution_count": 2,
   "metadata": {},
   "outputs": [],
   "source": [
    "def get_top_n_prediction_indices(prediction_array: np.array, n: int):\n",
    "    return np.flip(np.argsort(prediction_array)[-n:])"
   ]
  },
  {
   "cell_type": "code",
   "execution_count": 3,
   "metadata": {},
   "outputs": [],
   "source": [
    "def r2(x, y):\n",
    "    return stats.pearsonr(x, y)[0] ** 2"
   ]
  },
  {
   "cell_type": "code",
   "execution_count": 4,
   "metadata": {},
   "outputs": [],
   "source": [
    "def get_top_n_prediction_probas(prediction_array: np.array, n: int):\n",
    "    return sorted(prediction_array, reverse=True)[:n]"
   ]
  },
  {
   "cell_type": "code",
   "execution_count": 5,
   "metadata": {},
   "outputs": [],
   "source": [
    "def make_prediction(model, row, le_dict: dict):\n",
    "    return le_dict[str(np.argmax(model.predict(row)))]"
   ]
  },
  {
   "cell_type": "code",
   "execution_count": 6,
   "metadata": {},
   "outputs": [],
   "source": [
    "def get_top_n_predictions(prediction_array: np.array, n: int, encoder_dict: dict):\n",
    "    top_indices = get_top_n_prediction_indices(prediction_array, n)\n",
    "    predictions_list = []\n",
    "    for idx in top_indices:\n",
    "        predictions_list.append(encoder_dict[str(idx)])\n",
    "    return predictions_list"
   ]
  },
  {
   "cell_type": "markdown",
   "metadata": {},
   "source": [
    "# Predicting\n"
   ]
  },
  {
   "cell_type": "code",
   "execution_count": 7,
   "metadata": {},
   "outputs": [
    {
     "name": "stdout",
     "output_type": "stream",
     "text": [
      "pipeline dumped\n"
     ]
    }
   ],
   "source": [
    "X, y = utils.prep_playlist_df()\n",
    "X_train, X_test, y_train, y_test = model_pipeline.make_best_transformation_pipeline(\n",
    "    X, y\n",
    ")"
   ]
  },
  {
   "cell_type": "code",
   "execution_count": 8,
   "metadata": {},
   "outputs": [
    {
     "name": "stderr",
     "output_type": "stream",
     "text": [
      "2022-10-18 16:27:32.070478: I tensorflow/core/platform/cpu_feature_guard.cc:193] This TensorFlow binary is optimized with oneAPI Deep Neural Network Library (oneDNN) to use the following CPU instructions in performance-critical operations:  AVX2 FMA\n",
      "To enable them in other operations, rebuild TensorFlow with the appropriate compiler flags.\n"
     ]
    }
   ],
   "source": [
    "trained_model_dir = Path(Path.cwd(), \"trained_nn_model\")\n",
    "model = tf.keras.models.load_model(trained_model_dir)"
   ]
  },
  {
   "cell_type": "code",
   "execution_count": 9,
   "metadata": {},
   "outputs": [],
   "source": [
    "liked_songs_dir = Path(Path.cwd().parent, \"data\", \"liked_songs_df.pkl\")\n",
    "liked_songs = pd.read_pickle(liked_songs_dir)"
   ]
  },
  {
   "cell_type": "code",
   "execution_count": 10,
   "metadata": {},
   "outputs": [],
   "source": [
    "liked_artists = liked_songs[\"artist_names\"].to_list()\n",
    "liked_tracks = liked_songs[\"track_names\"].to_list()\n",
    "zipped_artists_tracks = tuple(zip(liked_artists, liked_tracks))"
   ]
  },
  {
   "cell_type": "code",
   "execution_count": 11,
   "metadata": {},
   "outputs": [],
   "source": [
    "pipeline = joblib.load(\"pipeline.pkl\")"
   ]
  },
  {
   "cell_type": "code",
   "execution_count": 12,
   "metadata": {},
   "outputs": [],
   "source": [
    "json_dir = Path(Path.cwd(), \"label_encoding.json\")\n",
    "with open(json_dir, \"r\") as f:\n",
    "    le_dict = json.load(f)"
   ]
  },
  {
   "cell_type": "code",
   "execution_count": 13,
   "metadata": {},
   "outputs": [],
   "source": [
    "transformed = pipeline.transform(liked_songs)"
   ]
  },
  {
   "cell_type": "code",
   "execution_count": 14,
   "metadata": {},
   "outputs": [
    {
     "name": "stdout",
     "output_type": "stream",
     "text": [
      "21/21 [==============================] - 1s 3ms/step\n"
     ]
    }
   ],
   "source": [
    "predictions = model.predict(transformed)"
   ]
  },
  {
   "cell_type": "code",
   "execution_count": 15,
   "metadata": {},
   "outputs": [],
   "source": [
    "top_1_predicted_labels = []\n",
    "for array in predictions:\n",
    "    _predictions_labels = get_top_n_predictions(array, 1, le_dict)\n",
    "    top_1_predicted_labels.append(_predictions_labels)\n",
    "top_1_predictions_dict = dict(zip(zipped_artists_tracks, top_1_predicted_labels))"
   ]
  },
  {
   "cell_type": "code",
   "execution_count": 16,
   "metadata": {},
   "outputs": [],
   "source": [
    "top_1_predictions_values = list(\n",
    "    itertools.chain.from_iterable(list(top_1_predictions_dict.values()))\n",
    ")"
   ]
  },
  {
   "cell_type": "code",
   "execution_count": 17,
   "metadata": {},
   "outputs": [],
   "source": [
    "predictions_dict = {\"first\":[], \n",
    "                    \"first_proba\":[], \n",
    "                    \"second\":[], \n",
    "                    \"second_proba\":[], \n",
    "                    \"third\":[], \n",
    "                    \"third_proba\":[]}\n",
    "\n",
    "for i, array in enumerate(predictions):\n",
    "    predictions_dict[\"first\"].append(le_dict[str(get_top_n_prediction_indices(array, 1)[0])])\n",
    "    predictions_dict[\"first_proba\"].append(get_top_n_prediction_probas(array, n=1)[0])\n",
    "    predictions_dict[\"second\"].append(le_dict[str(get_top_n_prediction_indices(array, 2)[1])])\n",
    "    predictions_dict[\"second_proba\"].append(get_top_n_prediction_probas(array, n=2)[1])\n",
    "    predictions_dict[\"third\"].append(le_dict[str(get_top_n_prediction_indices(array, 3)[2])])\n",
    "    predictions_dict[\"third_proba\"].append(get_top_n_prediction_probas(array, n=3)[2])"
   ]
  },
  {
   "cell_type": "code",
   "execution_count": 18,
   "metadata": {},
   "outputs": [],
   "source": [
    "df = pd.DataFrame.from_dict(predictions_dict)\n",
    "df[\"artist name\"] = liked_artists\n",
    "df[\"track name\"] = liked_tracks"
   ]
  },
  {
   "cell_type": "code",
   "execution_count": 19,
   "metadata": {},
   "outputs": [
    {
     "data": {
      "text/html": [
       "<div>\n",
       "<style scoped>\n",
       "    .dataframe tbody tr th:only-of-type {\n",
       "        vertical-align: middle;\n",
       "    }\n",
       "\n",
       "    .dataframe tbody tr th {\n",
       "        vertical-align: top;\n",
       "    }\n",
       "\n",
       "    .dataframe thead th {\n",
       "        text-align: right;\n",
       "    }\n",
       "</style>\n",
       "<table border=\"1\" class=\"dataframe\">\n",
       "  <thead>\n",
       "    <tr style=\"text-align: right;\">\n",
       "      <th></th>\n",
       "      <th>first</th>\n",
       "      <th>first_proba</th>\n",
       "      <th>second</th>\n",
       "      <th>second_proba</th>\n",
       "      <th>third</th>\n",
       "      <th>third_proba</th>\n",
       "      <th>artist name</th>\n",
       "      <th>track name</th>\n",
       "    </tr>\n",
       "  </thead>\n",
       "  <tbody>\n",
       "    <tr>\n",
       "      <th>0</th>\n",
       "      <td>Austin</td>\n",
       "      <td>0.031842</td>\n",
       "      <td>Classic Rock</td>\n",
       "      <td>0.031306</td>\n",
       "      <td>Austin 2.0</td>\n",
       "      <td>0.031213</td>\n",
       "      <td>Elton John</td>\n",
       "      <td>All The Girls Love Alice - Remastered 2014</td>\n",
       "    </tr>\n",
       "    <tr>\n",
       "      <th>1</th>\n",
       "      <td>Austin 2.0</td>\n",
       "      <td>0.031524</td>\n",
       "      <td>Summer Tunes</td>\n",
       "      <td>0.031445</td>\n",
       "      <td>Driving</td>\n",
       "      <td>0.031172</td>\n",
       "      <td>Brian Protheroe</td>\n",
       "      <td>Pinball</td>\n",
       "    </tr>\n",
       "    <tr>\n",
       "      <th>2</th>\n",
       "      <td>Austin</td>\n",
       "      <td>0.031883</td>\n",
       "      <td>Summer Tunes</td>\n",
       "      <td>0.031365</td>\n",
       "      <td>Trance</td>\n",
       "      <td>0.031074</td>\n",
       "      <td>Lo Moon</td>\n",
       "      <td>Dream Never Dies</td>\n",
       "    </tr>\n",
       "    <tr>\n",
       "      <th>3</th>\n",
       "      <td>Driving</td>\n",
       "      <td>0.031746</td>\n",
       "      <td>Summer Tunes</td>\n",
       "      <td>0.031642</td>\n",
       "      <td>Austin</td>\n",
       "      <td>0.031481</td>\n",
       "      <td>Nation of Language</td>\n",
       "      <td>Across That Fine Line</td>\n",
       "    </tr>\n",
       "    <tr>\n",
       "      <th>4</th>\n",
       "      <td>Austin</td>\n",
       "      <td>0.031415</td>\n",
       "      <td>Summer Tunes</td>\n",
       "      <td>0.031391</td>\n",
       "      <td>Austin 2.0</td>\n",
       "      <td>0.031325</td>\n",
       "      <td>Harvey Danger</td>\n",
       "      <td>Flagpole Sitta</td>\n",
       "    </tr>\n",
       "  </tbody>\n",
       "</table>\n",
       "</div>"
      ],
      "text/plain": [
       "        first  first_proba        second  second_proba       third  \\\n",
       "0      Austin     0.031842  Classic Rock      0.031306  Austin 2.0   \n",
       "1  Austin 2.0     0.031524  Summer Tunes      0.031445     Driving   \n",
       "2      Austin     0.031883  Summer Tunes      0.031365      Trance   \n",
       "3     Driving     0.031746  Summer Tunes      0.031642      Austin   \n",
       "4      Austin     0.031415  Summer Tunes      0.031391  Austin 2.0   \n",
       "\n",
       "   third_proba         artist name                                  track name  \n",
       "0     0.031213          Elton John  All The Girls Love Alice - Remastered 2014  \n",
       "1     0.031172     Brian Protheroe                                     Pinball  \n",
       "2     0.031074             Lo Moon                            Dream Never Dies  \n",
       "3     0.031481  Nation of Language                       Across That Fine Line  \n",
       "4     0.031325       Harvey Danger                              Flagpole Sitta  "
      ]
     },
     "execution_count": 19,
     "metadata": {},
     "output_type": "execute_result"
    }
   ],
   "source": [
    "df.head()"
   ]
  },
  {
   "cell_type": "code",
   "execution_count": 20,
   "metadata": {},
   "outputs": [
    {
     "data": {
      "text/html": [
       "<div>\n",
       "<style scoped>\n",
       "    .dataframe tbody tr th:only-of-type {\n",
       "        vertical-align: middle;\n",
       "    }\n",
       "\n",
       "    .dataframe tbody tr th {\n",
       "        vertical-align: top;\n",
       "    }\n",
       "\n",
       "    .dataframe thead th {\n",
       "        text-align: right;\n",
       "    }\n",
       "</style>\n",
       "<table border=\"1\" class=\"dataframe\">\n",
       "  <thead>\n",
       "    <tr style=\"text-align: right;\">\n",
       "      <th></th>\n",
       "      <th>first</th>\n",
       "      <th>first_proba</th>\n",
       "      <th>second</th>\n",
       "      <th>second_proba</th>\n",
       "      <th>third</th>\n",
       "      <th>third_proba</th>\n",
       "      <th>artist name</th>\n",
       "      <th>track name</th>\n",
       "    </tr>\n",
       "  </thead>\n",
       "  <tbody>\n",
       "    <tr>\n",
       "      <th>168</th>\n",
       "      <td>Austin</td>\n",
       "      <td>0.033059</td>\n",
       "      <td>Driving</td>\n",
       "      <td>0.031936</td>\n",
       "      <td>Guilty Pleasures</td>\n",
       "      <td>0.031733</td>\n",
       "      <td>AWOLNATION</td>\n",
       "      <td>Jealous Buffoon</td>\n",
       "    </tr>\n",
       "    <tr>\n",
       "      <th>255</th>\n",
       "      <td>Summer Tunes</td>\n",
       "      <td>0.032810</td>\n",
       "      <td>Austin 2.0</td>\n",
       "      <td>0.031923</td>\n",
       "      <td>Your Top Songs 2019</td>\n",
       "      <td>0.031621</td>\n",
       "      <td>VHS Collection</td>\n",
       "      <td>The Black</td>\n",
       "    </tr>\n",
       "    <tr>\n",
       "      <th>148</th>\n",
       "      <td>Summer Tunes</td>\n",
       "      <td>0.032682</td>\n",
       "      <td>Austin</td>\n",
       "      <td>0.031700</td>\n",
       "      <td>Discovered Weekly</td>\n",
       "      <td>0.031328</td>\n",
       "      <td>Kitchen Dwellers</td>\n",
       "      <td>Visions Of Mohr</td>\n",
       "    </tr>\n",
       "    <tr>\n",
       "      <th>494</th>\n",
       "      <td>Summer Tunes</td>\n",
       "      <td>0.032653</td>\n",
       "      <td>Austin 2.0</td>\n",
       "      <td>0.031812</td>\n",
       "      <td>Austin</td>\n",
       "      <td>0.031740</td>\n",
       "      <td>Kanye West</td>\n",
       "      <td>Famous</td>\n",
       "    </tr>\n",
       "    <tr>\n",
       "      <th>167</th>\n",
       "      <td>Austin</td>\n",
       "      <td>0.032632</td>\n",
       "      <td>Austin 2.0</td>\n",
       "      <td>0.031864</td>\n",
       "      <td>Summer Tunes</td>\n",
       "      <td>0.031840</td>\n",
       "      <td>AWOLNATION</td>\n",
       "      <td>Sound Witness System</td>\n",
       "    </tr>\n",
       "  </tbody>\n",
       "</table>\n",
       "</div>"
      ],
      "text/plain": [
       "            first  first_proba      second  second_proba                third  \\\n",
       "168        Austin     0.033059     Driving      0.031936     Guilty Pleasures   \n",
       "255  Summer Tunes     0.032810  Austin 2.0      0.031923  Your Top Songs 2019   \n",
       "148  Summer Tunes     0.032682      Austin      0.031700    Discovered Weekly   \n",
       "494  Summer Tunes     0.032653  Austin 2.0      0.031812               Austin   \n",
       "167        Austin     0.032632  Austin 2.0      0.031864         Summer Tunes   \n",
       "\n",
       "     third_proba       artist name            track name  \n",
       "168     0.031733        AWOLNATION       Jealous Buffoon  \n",
       "255     0.031621    VHS Collection             The Black  \n",
       "148     0.031328  Kitchen Dwellers       Visions Of Mohr  \n",
       "494     0.031740        Kanye West                Famous  \n",
       "167     0.031840        AWOLNATION  Sound Witness System  "
      ]
     },
     "execution_count": 20,
     "metadata": {},
     "output_type": "execute_result"
    }
   ],
   "source": [
    "df.sort_values(\"first_proba\", ascending=False).head()"
   ]
  },
  {
   "cell_type": "markdown",
   "metadata": {},
   "source": [
    "# Filtering\n",
    "\n",
    "The most confident matches are all songs that already exist in the playlist they are being matched to. \n",
    "Although this is a reasurring result, it isn't very helpful for identifying new playlist tracks. \n",
    "Therefore if a song already exists in a playlist, it shouldn't be included."
   ]
  },
  {
   "cell_type": "code",
   "execution_count": 21,
   "metadata": {},
   "outputs": [],
   "source": [
    "playlist_df_dir = Path(Path.cwd().parent, \"data\", \"playlist_df.pkl\")\n",
    "playlist_df = pd.read_pickle(playlist_df_dir)"
   ]
  },
  {
   "cell_type": "code",
   "execution_count": 22,
   "metadata": {},
   "outputs": [],
   "source": [
    "# Have to rename the playlist_df columns to match the predictions df for merging\n",
    "playlist_df_filtered = playlist_df[[\"track_names\", \"artist_names\", \"playlist_name\"]]\n",
    "playlist_df_filtered = playlist_df_filtered.rename(\n",
    "    columns={\n",
    "        \"track_names\": \"track name\",\n",
    "        \"artist_names\": \"artist name\",\n",
    "        \"playlist_name\": \"first prediction\",\n",
    "    }\n",
    ")"
   ]
  },
  {
   "cell_type": "code",
   "execution_count": 23,
   "metadata": {},
   "outputs": [],
   "source": [
    "\"\"\" merge the playlist_df with the predictions_df\n",
    "extract tracks that exist in both liked songs and predictions\n",
    "combine the predictions_df with the tracks that exist in both\n",
    "then drop duplicates, leaving only the prediction tracks that dont \n",
    "exist in the liked song df\n",
    "\"\"\"\n",
    "\n",
    "playlist_df_merged = playlist_df_filtered.merge(df, how=\"left\", indicator=True)\n",
    "exist_in_both = playlist_df_merged[playlist_df_merged[\"_merge\"] == \"both\"]\n",
    "final_prediction_df = (\n",
    "    pd.concat([df, exist_in_both])\n",
    "    .drop_duplicates(keep=False, subset=[\"artist name\", \"track name\"])\n",
    "    .drop([\"_merge\",\"first prediction\"], axis=1)\n",
    "    .reset_index(drop=True)\n",
    ")"
   ]
  },
  {
   "cell_type": "code",
   "execution_count": 24,
   "metadata": {},
   "outputs": [
    {
     "data": {
      "text/html": [
       "<div>\n",
       "<style scoped>\n",
       "    .dataframe tbody tr th:only-of-type {\n",
       "        vertical-align: middle;\n",
       "    }\n",
       "\n",
       "    .dataframe tbody tr th {\n",
       "        vertical-align: top;\n",
       "    }\n",
       "\n",
       "    .dataframe thead th {\n",
       "        text-align: right;\n",
       "    }\n",
       "</style>\n",
       "<table border=\"1\" class=\"dataframe\">\n",
       "  <thead>\n",
       "    <tr style=\"text-align: right;\">\n",
       "      <th></th>\n",
       "      <th>first</th>\n",
       "      <th>first_proba</th>\n",
       "      <th>second</th>\n",
       "      <th>second_proba</th>\n",
       "      <th>third</th>\n",
       "      <th>third_proba</th>\n",
       "      <th>artist name</th>\n",
       "      <th>track name</th>\n",
       "    </tr>\n",
       "  </thead>\n",
       "  <tbody>\n",
       "    <tr>\n",
       "      <th>129</th>\n",
       "      <td>Austin</td>\n",
       "      <td>0.033059</td>\n",
       "      <td>Driving</td>\n",
       "      <td>0.031936</td>\n",
       "      <td>Guilty Pleasures</td>\n",
       "      <td>0.031733</td>\n",
       "      <td>AWOLNATION</td>\n",
       "      <td>Jealous Buffoon</td>\n",
       "    </tr>\n",
       "    <tr>\n",
       "      <th>190</th>\n",
       "      <td>Summer Tunes</td>\n",
       "      <td>0.032810</td>\n",
       "      <td>Austin 2.0</td>\n",
       "      <td>0.031923</td>\n",
       "      <td>Your Top Songs 2019</td>\n",
       "      <td>0.031621</td>\n",
       "      <td>VHS Collection</td>\n",
       "      <td>The Black</td>\n",
       "    </tr>\n",
       "    <tr>\n",
       "      <th>328</th>\n",
       "      <td>Summer Tunes</td>\n",
       "      <td>0.032653</td>\n",
       "      <td>Austin 2.0</td>\n",
       "      <td>0.031812</td>\n",
       "      <td>Austin</td>\n",
       "      <td>0.031740</td>\n",
       "      <td>Kanye West</td>\n",
       "      <td>Famous</td>\n",
       "    </tr>\n",
       "    <tr>\n",
       "      <th>155</th>\n",
       "      <td>Austin</td>\n",
       "      <td>0.032632</td>\n",
       "      <td>Summer Tunes</td>\n",
       "      <td>0.031773</td>\n",
       "      <td>Classic Rock</td>\n",
       "      <td>0.031642</td>\n",
       "      <td>Chinese Man</td>\n",
       "      <td>Artichaut</td>\n",
       "    </tr>\n",
       "    <tr>\n",
       "      <th>147</th>\n",
       "      <td>Austin</td>\n",
       "      <td>0.032601</td>\n",
       "      <td>Summer Tunes</td>\n",
       "      <td>0.032055</td>\n",
       "      <td>Driving</td>\n",
       "      <td>0.031632</td>\n",
       "      <td>Fleetwood Mac</td>\n",
       "      <td>Never Going Back Again - 2004 Remaster</td>\n",
       "    </tr>\n",
       "  </tbody>\n",
       "</table>\n",
       "</div>"
      ],
      "text/plain": [
       "            first  first_proba        second  second_proba  \\\n",
       "129        Austin     0.033059       Driving      0.031936   \n",
       "190  Summer Tunes     0.032810    Austin 2.0      0.031923   \n",
       "328  Summer Tunes     0.032653    Austin 2.0      0.031812   \n",
       "155        Austin     0.032632  Summer Tunes      0.031773   \n",
       "147        Austin     0.032601  Summer Tunes      0.032055   \n",
       "\n",
       "                   third  third_proba     artist name  \\\n",
       "129     Guilty Pleasures     0.031733      AWOLNATION   \n",
       "190  Your Top Songs 2019     0.031621  VHS Collection   \n",
       "328               Austin     0.031740      Kanye West   \n",
       "155         Classic Rock     0.031642     Chinese Man   \n",
       "147              Driving     0.031632   Fleetwood Mac   \n",
       "\n",
       "                                 track name  \n",
       "129                         Jealous Buffoon  \n",
       "190                               The Black  \n",
       "328                                  Famous  \n",
       "155                               Artichaut  \n",
       "147  Never Going Back Again - 2004 Remaster  "
      ]
     },
     "execution_count": 24,
     "metadata": {},
     "output_type": "execute_result"
    }
   ],
   "source": [
    "final_prediction_df.sort_values(by=\"first_proba\", ascending=False).head()"
   ]
  },
  {
   "cell_type": "code",
   "execution_count": 25,
   "metadata": {},
   "outputs": [
    {
     "name": "stdout",
     "output_type": "stream",
     "text": [
      "<class 'pandas.core.frame.DataFrame'>\n",
      "RangeIndex: 438 entries, 0 to 437\n",
      "Data columns (total 8 columns):\n",
      " #   Column        Non-Null Count  Dtype  \n",
      "---  ------        --------------  -----  \n",
      " 0   first         438 non-null    object \n",
      " 1   first_proba   438 non-null    float32\n",
      " 2   second        438 non-null    object \n",
      " 3   second_proba  438 non-null    float32\n",
      " 4   third         438 non-null    object \n",
      " 5   third_proba   438 non-null    float32\n",
      " 6   artist name   438 non-null    object \n",
      " 7   track name    438 non-null    object \n",
      "dtypes: float32(3), object(5)\n",
      "memory usage: 22.4+ KB\n"
     ]
    }
   ],
   "source": [
    "final_prediction_df.info()"
   ]
  },
  {
   "cell_type": "code",
   "execution_count": 26,
   "metadata": {},
   "outputs": [
    {
     "name": "stdout",
     "output_type": "stream",
     "text": [
      "231 songs removed from prediction df\n"
     ]
    }
   ],
   "source": [
    "print(f\"{len(df) - len(final_prediction_df)} songs removed from prediction df\")"
   ]
  },
  {
   "cell_type": "markdown",
   "metadata": {},
   "source": [
    "# Prediction Visualization"
   ]
  },
  {
   "cell_type": "code",
   "execution_count": 27,
   "metadata": {},
   "outputs": [],
   "source": [
    "SPOTIFY_GREEN = \"#1DB954\""
   ]
  },
  {
   "cell_type": "code",
   "execution_count": 28,
   "metadata": {},
   "outputs": [],
   "source": [
    "filtered_counts = Counter(final_prediction_df[\"first\"])\n",
    "filtered_plot_data = sorted(\n",
    "    final_prediction_df[\"first\"], key=filtered_counts.get, reverse=True\n",
    ")\n",
    "counts_df = pd.DataFrame.from_dict(filtered_counts, orient=\"index\").reset_index()\n",
    "counts_df.columns = [\"playlist name\", \"count\"]"
   ]
  },
  {
   "cell_type": "markdown",
   "metadata": {},
   "source": [
    "Lets see what the breakdown of predictions by playlist looks like."
   ]
  },
  {
   "cell_type": "code",
   "execution_count": 29,
   "metadata": {},
   "outputs": [
    {
     "data": {
      "image/png": "[encoded data removed]",
      "text/plain": [
       "<Figure size 640x480 with 1 Axes>"
      ]
     },
     "metadata": {},
     "output_type": "display_data"
    }
   ],
   "source": [
    "ax = sns.barplot(x='count', \n",
    "                 y='playlist name', \n",
    "                 data=counts_df.sort_values(by='count'), \n",
    "                 color =SPOTIFY_GREEN)\n",
    "ax.bar_label(ax.containers[0]);\n",
    "ax.set_title(\"Playlist prediction by count\")\n",
    "ax.set_ylabel(\"\")\n",
    "ax.set_xlabel(\"Count\");"
   ]
  },
  {
   "cell_type": "markdown",
   "metadata": {},
   "source": [
    "This generally aligns with my expectations. I was using the \"Discovered Weekly\" playlist as a similar catchall for songs I liked before switching to \"Liked songs\" so it's unsuprising a lot of Liked songs fit into this. \n",
    "\n",
    "Next I'll investigate the breakdown of confidence for the first playlist prediction. "
   ]
  },
  {
   "cell_type": "code",
   "execution_count": 30,
   "metadata": {},
   "outputs": [
    {
     "data": {
      "image/png": "[encoded data removed]",
      "text/plain": [
       "<Figure size 1000x500 with 1 Axes>"
      ]
     },
     "metadata": {},
     "output_type": "display_data"
    }
   ],
   "source": [
    "fig, ax = plt.subplots(figsize = (10,5))\n",
    "ax = sns.histplot(data = final_prediction_df, \n",
    "             x = 'first_proba', \n",
    "             kde = True, \n",
    "             bins = 50, \n",
    "             color = SPOTIFY_GREEN, \n",
    "             alpha = 1)\n",
    "ax.lines[0].set_color('black') #passing kde color to kdekwargs doesnt seem to work\n",
    "ax.set_xlabel('Confidence');\n",
    "ax.set_title(\"Count of predictions by prediction confidence\");"
   ]
  },
  {
   "cell_type": "markdown",
   "metadata": {},
   "source": [
    "Most tracks are only categorised into a playlist with <50% confidence. Obviously the higher the confidence the better, and if I were to look deploy this to suggest playlist matching for users, I would implement a threshold (perhaps 75%) in order to minimise poor suggestions. Some songs just dont fit into any particular playlist, and its better to not force it. "
   ]
  },
  {
   "cell_type": "code",
   "execution_count": 31,
   "metadata": {},
   "outputs": [],
   "source": [
    "def count_over_threshold(thresh:float=0.75):\n",
    "    return len(final_prediction_df[final_prediction_df['first_proba'] > thresh])"
   ]
  },
  {
   "cell_type": "code",
   "execution_count": 32,
   "metadata": {},
   "outputs": [
    {
     "name": "stdout",
     "output_type": "stream",
     "text": [
      "0 of 438 songs were found with a confidence probability of over 0.75\n"
     ]
    }
   ],
   "source": [
    "threshold = 0.75\n",
    "print(f\"{count_over_threshold(threshold)} of {len(final_prediction_df)} songs were found with a confidence probability of over {threshold}\")"
   ]
  },
  {
   "cell_type": "markdown",
   "metadata": {},
   "source": [
    "Next lets see what the top songs for each playlist are. "
   ]
  },
  {
   "cell_type": "code",
   "execution_count": 174,
   "metadata": {},
   "outputs": [
    {
     "data": {
      "text/html": [
       "<div>\n",
       "<style scoped>\n",
       "    .dataframe tbody tr th:only-of-type {\n",
       "        vertical-align: middle;\n",
       "    }\n",
       "\n",
       "    .dataframe tbody tr th {\n",
       "        vertical-align: top;\n",
       "    }\n",
       "\n",
       "    .dataframe thead th {\n",
       "        text-align: right;\n",
       "    }\n",
       "</style>\n",
       "<table border=\"1\" class=\"dataframe\">\n",
       "  <thead>\n",
       "    <tr style=\"text-align: right;\">\n",
       "      <th></th>\n",
       "      <th>playlist_name</th>\n",
       "      <th>confidence</th>\n",
       "      <th>artist name</th>\n",
       "      <th>track name</th>\n",
       "    </tr>\n",
       "  </thead>\n",
       "  <tbody>\n",
       "    <tr>\n",
       "      <th>129</th>\n",
       "      <td>Austin</td>\n",
       "      <td>0.033059</td>\n",
       "      <td>AWOLNATION</td>\n",
       "      <td>Jealous Buffoon</td>\n",
       "    </tr>\n",
       "    <tr>\n",
       "      <th>190</th>\n",
       "      <td>Summer Tunes</td>\n",
       "      <td>0.032810</td>\n",
       "      <td>VHS Collection</td>\n",
       "      <td>The Black</td>\n",
       "    </tr>\n",
       "    <tr>\n",
       "      <th>209</th>\n",
       "      <td>Austin 2.0</td>\n",
       "      <td>0.032554</td>\n",
       "      <td>Alan Walker</td>\n",
       "      <td>All Falls Down (feat. Juliander)</td>\n",
       "    </tr>\n",
       "    <tr>\n",
       "      <th>296</th>\n",
       "      <td>Driving</td>\n",
       "      <td>0.032090</td>\n",
       "      <td>Taylor Swift</td>\n",
       "      <td>Welcome To New York</td>\n",
       "    </tr>\n",
       "    <tr>\n",
       "      <th>315</th>\n",
       "      <td>Floyd</td>\n",
       "      <td>0.031913</td>\n",
       "      <td>Cage The Elephant</td>\n",
       "      <td>Ain't No Rest For The Wicked - Original Version</td>\n",
       "    </tr>\n",
       "    <tr>\n",
       "      <th>159</th>\n",
       "      <td>Classic Rock</td>\n",
       "      <td>0.031858</td>\n",
       "      <td>Foreign Air</td>\n",
       "      <td>Free Animal</td>\n",
       "    </tr>\n",
       "    <tr>\n",
       "      <th>285</th>\n",
       "      <td>Trance</td>\n",
       "      <td>0.031822</td>\n",
       "      <td>The Velvet Underground</td>\n",
       "      <td>Rock &amp; Roll - Full Length Version; 2015 Remaster</td>\n",
       "    </tr>\n",
       "    <tr>\n",
       "      <th>13</th>\n",
       "      <td>60s/70s</td>\n",
       "      <td>0.031720</td>\n",
       "      <td>Pet Shop Boys</td>\n",
       "      <td>It's a Sin - 2001 Remaster</td>\n",
       "    </tr>\n",
       "    <tr>\n",
       "      <th>200</th>\n",
       "      <td>Discovered Weekly</td>\n",
       "      <td>0.031716</td>\n",
       "      <td>Tom Petty and the Heartbreakers</td>\n",
       "      <td>Red River</td>\n",
       "    </tr>\n",
       "    <tr>\n",
       "      <th>213</th>\n",
       "      <td>00s house party</td>\n",
       "      <td>0.031638</td>\n",
       "      <td>Jax Jones</td>\n",
       "      <td>Instruction (feat. Demi Lovato &amp; Stefflon Don)</td>\n",
       "    </tr>\n",
       "    <tr>\n",
       "      <th>252</th>\n",
       "      <td>Guilty Pleasures</td>\n",
       "      <td>0.031407</td>\n",
       "      <td>Coconut Records</td>\n",
       "      <td>West Coast</td>\n",
       "    </tr>\n",
       "  </tbody>\n",
       "</table>\n",
       "</div>"
      ],
      "text/plain": [
       "         playlist_name  confidence                      artist name  \\\n",
       "129             Austin    0.033059                       AWOLNATION   \n",
       "190       Summer Tunes    0.032810                   VHS Collection   \n",
       "209         Austin 2.0    0.032554                      Alan Walker   \n",
       "296            Driving    0.032090                     Taylor Swift   \n",
       "315              Floyd    0.031913                Cage The Elephant   \n",
       "159       Classic Rock    0.031858                      Foreign Air   \n",
       "285             Trance    0.031822           The Velvet Underground   \n",
       "13             60s/70s    0.031720                    Pet Shop Boys   \n",
       "200  Discovered Weekly    0.031716  Tom Petty and the Heartbreakers   \n",
       "213    00s house party    0.031638                        Jax Jones   \n",
       "252   Guilty Pleasures    0.031407                  Coconut Records   \n",
       "\n",
       "                                           track name  \n",
       "129                                   Jealous Buffoon  \n",
       "190                                         The Black  \n",
       "209                  All Falls Down (feat. Juliander)  \n",
       "296                               Welcome To New York  \n",
       "315   Ain't No Rest For The Wicked - Original Version  \n",
       "159                                       Free Animal  \n",
       "285  Rock & Roll - Full Length Version; 2015 Remaster  \n",
       "13                         It's a Sin - 2001 Remaster  \n",
       "200                                         Red River  \n",
       "213    Instruction (feat. Demi Lovato & Stefflon Don)  \n",
       "252                                        West Coast  "
      ]
     },
     "execution_count": 174,
     "metadata": {},
     "output_type": "execute_result"
    }
   ],
   "source": [
    "top_predictions_by_playlist_indices = final_prediction_df.groupby('first')['first_proba'].nlargest(1).index.get_level_values(1)\n",
    "\n",
    "(final_prediction_df.iloc[top_predictions_by_playlist_indices]\n",
    " .sort_values(by = 'first_proba', ascending = False)\n",
    " .drop(['second', 'second_proba', 'third', 'third_proba'], axis = 1)).rename(columns = {'first':'playlist_name', 'first_proba':'confidence'})"
   ]
  },
  {
   "cell_type": "markdown",
   "metadata": {},
   "source": [
    "I would agree with most of these selections. The biggest exception is \"The Tallest Man on Earth - Love is All\" being binned into the \"Day of the Dead\" playlist, where all tracks are Grateful Dead covers. However it's not unsurprising the algorithm failed to pick up on this niche requirement. \n",
    "\n",
    "The net successfully picked up on all artist-specific playlists - \n",
    "* Floyd\n",
    "* The Beatles\n",
    "* The Only Boy Living in New York\n",
    "* Live/Dead\n",
    "\n",
    "The algorithm also categorised a soundtrack track into the \"Classical\" playlist. Allthough techincally not classical, I can see that the track would share a lot of features seen in classical music. "
   ]
  },
  {
   "cell_type": "markdown",
   "metadata": {},
   "source": [
    "I'm interested in knowing if the algorithm is just putting tracks into more populated tracks. To investigate this I'll see how the ratio of playlist length to playlist prediction count in."
   ]
  },
  {
   "cell_type": "code",
   "execution_count": 34,
   "metadata": {},
   "outputs": [
    {
     "data": {
      "text/html": [
       "<div>\n",
       "<style scoped>\n",
       "    .dataframe tbody tr th:only-of-type {\n",
       "        vertical-align: middle;\n",
       "    }\n",
       "\n",
       "    .dataframe tbody tr th {\n",
       "        vertical-align: top;\n",
       "    }\n",
       "\n",
       "    .dataframe thead th {\n",
       "        text-align: right;\n",
       "    }\n",
       "</style>\n",
       "<table border=\"1\" class=\"dataframe\">\n",
       "  <thead>\n",
       "    <tr style=\"text-align: right;\">\n",
       "      <th></th>\n",
       "      <th>playlist name</th>\n",
       "      <th>prediction</th>\n",
       "      <th>playlist</th>\n",
       "      <th>percent</th>\n",
       "    </tr>\n",
       "  </thead>\n",
       "  <tbody>\n",
       "    <tr>\n",
       "      <th>1</th>\n",
       "      <td>Austin</td>\n",
       "      <td>119</td>\n",
       "      <td>14</td>\n",
       "      <td>850.000000</td>\n",
       "    </tr>\n",
       "    <tr>\n",
       "      <th>2</th>\n",
       "      <td>Austin 2.0</td>\n",
       "      <td>95</td>\n",
       "      <td>33</td>\n",
       "      <td>287.878788</td>\n",
       "    </tr>\n",
       "    <tr>\n",
       "      <th>0</th>\n",
       "      <td>Summer Tunes</td>\n",
       "      <td>190</td>\n",
       "      <td>115</td>\n",
       "      <td>165.217391</td>\n",
       "    </tr>\n",
       "    <tr>\n",
       "      <th>3</th>\n",
       "      <td>Driving</td>\n",
       "      <td>20</td>\n",
       "      <td>65</td>\n",
       "      <td>30.769231</td>\n",
       "    </tr>\n",
       "    <tr>\n",
       "      <th>4</th>\n",
       "      <td>00s house party</td>\n",
       "      <td>4</td>\n",
       "      <td>32</td>\n",
       "      <td>12.500000</td>\n",
       "    </tr>\n",
       "    <tr>\n",
       "      <th>5</th>\n",
       "      <td>Trance</td>\n",
       "      <td>3</td>\n",
       "      <td>37</td>\n",
       "      <td>8.108108</td>\n",
       "    </tr>\n",
       "    <tr>\n",
       "      <th>7</th>\n",
       "      <td>Floyd</td>\n",
       "      <td>2</td>\n",
       "      <td>36</td>\n",
       "      <td>5.555556</td>\n",
       "    </tr>\n",
       "    <tr>\n",
       "      <th>10</th>\n",
       "      <td>Guilty Pleasures</td>\n",
       "      <td>1</td>\n",
       "      <td>66</td>\n",
       "      <td>1.515152</td>\n",
       "    </tr>\n",
       "    <tr>\n",
       "      <th>8</th>\n",
       "      <td>60s/70s</td>\n",
       "      <td>1</td>\n",
       "      <td>113</td>\n",
       "      <td>0.884956</td>\n",
       "    </tr>\n",
       "    <tr>\n",
       "      <th>6</th>\n",
       "      <td>Discovered Weekly</td>\n",
       "      <td>2</td>\n",
       "      <td>336</td>\n",
       "      <td>0.595238</td>\n",
       "    </tr>\n",
       "    <tr>\n",
       "      <th>9</th>\n",
       "      <td>Classic Rock</td>\n",
       "      <td>1</td>\n",
       "      <td>340</td>\n",
       "      <td>0.294118</td>\n",
       "    </tr>\n",
       "  </tbody>\n",
       "</table>\n",
       "</div>"
      ],
      "text/plain": [
       "        playlist name  prediction  playlist     percent\n",
       "1              Austin         119        14  850.000000\n",
       "2          Austin 2.0          95        33  287.878788\n",
       "0        Summer Tunes         190       115  165.217391\n",
       "3             Driving          20        65   30.769231\n",
       "4     00s house party           4        32   12.500000\n",
       "5              Trance           3        37    8.108108\n",
       "7               Floyd           2        36    5.555556\n",
       "10   Guilty Pleasures           1        66    1.515152\n",
       "8             60s/70s           1       113    0.884956\n",
       "6   Discovered Weekly           2       336    0.595238\n",
       "9        Classic Rock           1       340    0.294118"
      ]
     },
     "execution_count": 34,
     "metadata": {},
     "output_type": "execute_result"
    }
   ],
   "source": [
    "predict_vs_track_count_df = (final_prediction_df['first']\n",
    " .value_counts()\n",
    " .to_frame()\n",
    " .merge(playlist_df['playlist_name']\n",
    "        .value_counts()\n",
    "        .to_frame(), \n",
    "        left_index=True, \n",
    "        right_index=True)\n",
    " .reset_index())\n",
    "predict_vs_track_count_df = predict_vs_track_count_df.rename(columns={\"index\":\"playlist name\",\"first\":\"prediction\", \"playlist_name\":\"playlist\"})\n",
    "predict_vs_track_count_df[\"percent\"] = predict_vs_track_count_df['prediction'] / predict_vs_track_count_df['playlist'] * 100\n",
    "predict_vs_track_count_df.sort_values(by = 'percent', ascending = False)"
   ]
  },
  {
   "cell_type": "code",
   "execution_count": 35,
   "metadata": {},
   "outputs": [],
   "source": [
    "\n",
    "markers = [\"o\", \"v\", \"^\", \"1\", \"s\", \"*\"]\n",
    "colours = ['tab:blue','tab:orange', 'tab:green', 'tab:red', 'tab:purple', 'tab:brown', 'tab:pink']\n",
    "\n",
    "plot_df = predict_vs_track_count_df.copy()\n",
    "plot_df['marker'] = np.resize(markers, plot_df.shape[0])\n",
    "plot_df['colour'] = np.resize(colours, plot_df.shape[0])"
   ]
  },
  {
   "cell_type": "code",
   "execution_count": 36,
   "metadata": {},
   "outputs": [
    {
     "data": {
      "text/plain": [
       "Text(0.5, 1.0, 'Count of playlist tracks vs predictions')"
      ]
     },
     "execution_count": 36,
     "metadata": {},
     "output_type": "execute_result"
    },
    {
     "data": {
      "image/png": "[encoded data removed]",
      "text/plain": [
       "<Figure size 1200x800 with 1 Axes>"
      ]
     },
     "metadata": {},
     "output_type": "display_data"
    }
   ],
   "source": [
    "fig, ax = plt.subplots(figsize = (12,8))\n",
    "for row in plot_df.itertuples(index = False, name = 'Pandas'):\n",
    "    ax.plot(row.playlist, row.prediction, marker = row.marker, color = row.colour, label = row._0, linestyle = \"None\")\n",
    "ax.plot(ax.get_xlim(), ax.get_ylim(), ls=\"--\", c=\".3\", zorder = 1, label = \"1:1 Playlist\\nto prediction ratio\")\n",
    "plt.legend(bbox_to_anchor=(1.02, 1.01))\n",
    "ax.set_xlabel(\"Count of playlist tracks\")\n",
    "ax.set_ylabel(\"Count of prediction tracks\")\n",
    "ax.set_title(\"Count of playlist tracks vs predictions\")"
   ]
  },
  {
   "cell_type": "markdown",
   "metadata": {},
   "source": [
    "Looks like generally the more tracks a playlist contains the more likely it is to have a song categorised into it (the effect of this can actaully be seen in the next graphs regression plot).\n",
    "Although setting class weights into the neural net should have reduced the impact of the imbalanced training set, it hasnt fixed it completely. It could also be the case that playlists with lots of tracks include a wider range of song genres/styles and therefore more songs do genuinely fit into them. "
   ]
  },
  {
   "cell_type": "code",
   "execution_count": 37,
   "metadata": {},
   "outputs": [
    {
     "data": {
      "text/plain": [
       "<seaborn.axisgrid.JointGrid at 0x7f8e0c5385b0>"
      ]
     },
     "execution_count": 37,
     "metadata": {},
     "output_type": "execute_result"
    },
    {
     "data": {
      "image/png": "[encoded data removed]",
      "text/plain": [
       "<Figure size 700x700 with 3 Axes>"
      ]
     },
     "metadata": {},
     "output_type": "display_data"
    }
   ],
   "source": [
    "j= sns.jointplot(data = plot_df,x = 'playlist', y='prediction', kind=\"reg\",  color = SPOTIFY_GREEN, height = 7)\n",
    "j.set_axis_labels('Count of playlist tracks', 'Count of prediction tracks')"
   ]
  },
  {
   "cell_type": "markdown",
   "metadata": {},
   "source": [
    "# Confusion Matrix\n",
    "\n",
    "Although created in the modelling section, no analysis was done on the confusion matrix. Here, I will just open the already created image rather than rerunning the code. "
   ]
  },
  {
   "cell_type": "markdown",
   "metadata": {},
   "source": [
    "![confusion matrix](confusion_matrix.png)"
   ]
  },
  {
   "cell_type": "markdown",
   "metadata": {},
   "source": [
    "Although the confusion matrix doesn't look great on first viewing, the most common mix ups are entirely understandable and are usually where several playlists could realistically contain the same or very similar songs. \n",
    "\n",
    "For example \"Classic Rock\" and \"Driving\" both contain similar songs from the same eras and rock-heavy rhythms. \n",
    "\n",
    "\"Easy Sunday\" is often mixed up with \"Singer Songwriter\" and \"The Only Boy Living in New York\". This again makes sense because most of Easy Sunday songs are acousting singer/soongwriter style. \n",
    "\n",
    "Finally \"Discovered Weekly\" is often miscategorised, however this is because for a long time I was saving tracks that I liked from Spotify's \"Discover Weekly\" into here. Therefore the playlist has a very wide range of songs, leading to a non-coherent grouping. Even a human would struggle to decide whether ot not to place a liked song into here. "
   ]
  },
  {
   "cell_type": "code",
   "execution_count": null,
   "metadata": {},
   "outputs": [],
   "source": []
  }
 ],
 "metadata": {
  "kernelspec": {
   "display_name": "Python 3.10.4 ('playlist-creator')",
   "language": "python",
   "name": "python3"
  },
  "language_info": {
   "codemirror_mode": {
    "name": "ipython",
    "version": 3
   },
   "file_extension": ".py",
   "mimetype": "text/x-python",
   "name": "python",
   "nbconvert_exporter": "python",
   "pygments_lexer": "ipython3",
   "version": "3.10.4"
  },
  "orig_nbformat": 4,
  "vscode": {
   "interpreter": {
    "hash": "b97f23f03363feb2857c74f4f539da46bfa500aff7c41ef02bb3fdf24f6c2adf"
   }
  }
 },
 "nbformat": 4,
 "nbformat_minor": 2
}
