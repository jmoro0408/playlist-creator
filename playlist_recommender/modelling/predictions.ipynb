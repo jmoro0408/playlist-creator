{
 "cells": [
  {
   "cell_type": "code",
   "execution_count": 7,
   "metadata": {},
   "outputs": [],
   "source": [
    "import tensorflow as tf\n",
    "import pandas as pd\n",
    "import numpy as np\n",
    "from playlist_recommender.modelling import model_pipeline, utils\n",
    "import joblib\n",
    "import json\n",
    "import seaborn as sns\n",
    "import matplotlib.pyplot as plt\n",
    "import itertools\n",
    "from collections import Counter\n",
    "from pathlib import Path"
   ]
  },
  {
   "cell_type": "code",
   "execution_count": 2,
   "metadata": {},
   "outputs": [
    {
     "name": "stdout",
     "output_type": "stream",
     "text": [
      "pipeline dumped\n"
     ]
    }
   ],
   "source": [
    "X, y = utils.prep_playlist_df()\n",
    "X_train, X_test, y_train, y_test = model_pipeline.make_best_transformation_pipeline(\n",
    "    X, y\n",
    ")"
   ]
  },
  {
   "cell_type": "code",
   "execution_count": 3,
   "metadata": {},
   "outputs": [],
   "source": [
    "def get_top_n_prediction_indices(prediction_array: np.array, n: int):\n",
    "    return np.flip(np.argsort(prediction_array)[-n:])"
   ]
  },
  {
   "cell_type": "code",
   "execution_count": 4,
   "metadata": {},
   "outputs": [],
   "source": [
    "def get_top_n_prediction_probas(prediction_array: np.array, n: int):\n",
    "    return sorted(prediction_array, reverse=True)[:n]"
   ]
  },
  {
   "cell_type": "code",
   "execution_count": 5,
   "metadata": {},
   "outputs": [],
   "source": [
    "def make_prediction(model, row, le_dict: dict):\n",
    "    return le_dict[str(np.argmax(model.predict(row)))]"
   ]
  },
  {
   "cell_type": "code",
   "execution_count": 6,
   "metadata": {},
   "outputs": [],
   "source": [
    "def get_top_n_predictions(prediction_array: np.array, n: int, encoder_dict: dict):\n",
    "    top_indices = get_top_n_prediction_indices(prediction_array, n)\n",
    "    predictions_list = []\n",
    "    for idx in top_indices:\n",
    "        predictions_list.append(encoder_dict[str(idx)])\n",
    "    return predictions_list"
   ]
  },
  {
   "cell_type": "code",
   "execution_count": 11,
   "metadata": {},
   "outputs": [],
   "source": [
    "trained_model_dir = Path(Path.cwd(), \"trained_nn_model\")"
   ]
  },
  {
   "cell_type": "code",
   "execution_count": 12,
   "metadata": {},
   "outputs": [
    {
     "name": "stderr",
     "output_type": "stream",
     "text": [
      "2022-10-13 17:28:53.285700: I tensorflow/core/platform/cpu_feature_guard.cc:193] This TensorFlow binary is optimized with oneAPI Deep Neural Network Library (oneDNN) to use the following CPU instructions in performance-critical operations:  AVX2 FMA\n",
      "To enable them in other operations, rebuild TensorFlow with the appropriate compiler flags.\n"
     ]
    }
   ],
   "source": [
    "model = tf.keras.models.load_model(trained_model_dir)"
   ]
  },
  {
   "cell_type": "code",
   "execution_count": 16,
   "metadata": {},
   "outputs": [],
   "source": [
    "liked_songs_dir = Path(Path.cwd().parent, \"data\", \"liked_songs_df.pkl\")\n",
    "liked_songs = pd.read_pickle(liked_songs_dir)"
   ]
  },
  {
   "cell_type": "code",
   "execution_count": 17,
   "metadata": {},
   "outputs": [],
   "source": [
    "liked_artists = liked_songs[\"artist_names\"].to_list()\n",
    "liked_tracks = liked_songs[\"track_names\"].to_list()\n",
    "zipped_artists_tracks = tuple(zip(liked_artists, liked_tracks))"
   ]
  },
  {
   "cell_type": "code",
   "execution_count": 18,
   "metadata": {},
   "outputs": [],
   "source": [
    "pipeline = joblib.load(\"pipeline.pkl\")"
   ]
  },
  {
   "cell_type": "code",
   "execution_count": 20,
   "metadata": {},
   "outputs": [],
   "source": [
    "json_dir = Path(Path.cwd(), \"label_encoding.json\")\n",
    "with open(json_dir, \"r\") as f:\n",
    "    le_dict = json.load(f)"
   ]
  },
  {
   "cell_type": "code",
   "execution_count": 21,
   "metadata": {},
   "outputs": [],
   "source": [
    "transformed = pipeline.transform(liked_songs)"
   ]
  },
  {
   "cell_type": "code",
   "execution_count": 22,
   "metadata": {},
   "outputs": [
    {
     "name": "stdout",
     "output_type": "stream",
     "text": [
      "21/21 [==============================] - 1s 8ms/step\n"
     ]
    }
   ],
   "source": [
    "predictions = model.predict(transformed)"
   ]
  },
  {
   "cell_type": "code",
   "execution_count": 23,
   "metadata": {},
   "outputs": [],
   "source": [
    "top_1_predicted_labels = []\n",
    "for array in predictions:\n",
    "    _predictions_labels = get_top_n_predictions(array, 1, le_dict)\n",
    "    top_1_predicted_labels.append(_predictions_labels)\n",
    "top_1_predictions_dict = dict(zip(zipped_artists_tracks, top_1_predicted_labels))"
   ]
  },
  {
   "cell_type": "code",
   "execution_count": 24,
   "metadata": {},
   "outputs": [],
   "source": [
    "top_1_predictions_values = list(\n",
    "    itertools.chain.from_iterable(list(top_1_predictions_dict.values()))\n",
    ")"
   ]
  },
  {
   "cell_type": "code",
   "execution_count": 39,
   "metadata": {},
   "outputs": [],
   "source": [
    "predictions_dict = {\"first\":[], \n",
    "                    \"first_proba\":[], \n",
    "                    \"second\":[], \n",
    "                    \"second_proba\":[], \n",
    "                    \"third\":[], \n",
    "                    \"third_proba\":[]}\n",
    "\n",
    "for i, array in enumerate(predictions):\n",
    "    predictions_dict[\"first\"].append(le_dict[str(get_top_n_prediction_indices(array, 1)[0])])\n",
    "    predictions_dict[\"first_proba\"].append(get_top_n_prediction_probas(array, n=1)[0])\n",
    "    predictions_dict[\"second\"].append(le_dict[str(get_top_n_prediction_indices(array, 2)[1])])\n",
    "    predictions_dict[\"second_proba\"].append(get_top_n_prediction_probas(array, n=2)[1])\n",
    "    predictions_dict[\"third\"].append(le_dict[str(get_top_n_prediction_indices(array, 3)[2])])\n",
    "    predictions_dict[\"third_proba\"].append(get_top_n_prediction_probas(array, n=3)[2])"
   ]
  },
  {
   "cell_type": "code",
   "execution_count": 42,
   "metadata": {},
   "outputs": [],
   "source": [
    "df = pd.DataFrame.from_dict(predictions_dict)\n",
    "df[\"artist name\"] = liked_artists\n",
    "df[\"track name\"] = liked_tracks"
   ]
  },
  {
   "cell_type": "code",
   "execution_count": 43,
   "metadata": {},
   "outputs": [
    {
     "data": {
      "text/html": [
       "<div>\n",
       "<style scoped>\n",
       "    .dataframe tbody tr th:only-of-type {\n",
       "        vertical-align: middle;\n",
       "    }\n",
       "\n",
       "    .dataframe tbody tr th {\n",
       "        vertical-align: top;\n",
       "    }\n",
       "\n",
       "    .dataframe thead th {\n",
       "        text-align: right;\n",
       "    }\n",
       "</style>\n",
       "<table border=\"1\" class=\"dataframe\">\n",
       "  <thead>\n",
       "    <tr style=\"text-align: right;\">\n",
       "      <th></th>\n",
       "      <th>first</th>\n",
       "      <th>first_proba</th>\n",
       "      <th>second</th>\n",
       "      <th>second_proba</th>\n",
       "      <th>third</th>\n",
       "      <th>third_proba</th>\n",
       "      <th>artist name</th>\n",
       "      <th>track name</th>\n",
       "    </tr>\n",
       "  </thead>\n",
       "  <tbody>\n",
       "    <tr>\n",
       "      <th>0</th>\n",
       "      <td>80's Hits</td>\n",
       "      <td>0.490375</td>\n",
       "      <td>Guilty Pleasures</td>\n",
       "      <td>0.110621</td>\n",
       "      <td>Summer Songs</td>\n",
       "      <td>0.110617</td>\n",
       "      <td>Elton John</td>\n",
       "      <td>All The Girls Love Alice - Remastered 2014</td>\n",
       "    </tr>\n",
       "    <tr>\n",
       "      <th>1</th>\n",
       "      <td>Discovered Weekly</td>\n",
       "      <td>0.336936</td>\n",
       "      <td>Your Top Songs 2019</td>\n",
       "      <td>0.252830</td>\n",
       "      <td>Easy Sunday</td>\n",
       "      <td>0.168270</td>\n",
       "      <td>Brian Protheroe</td>\n",
       "      <td>Pinball</td>\n",
       "    </tr>\n",
       "    <tr>\n",
       "      <th>2</th>\n",
       "      <td>Austin 2.0</td>\n",
       "      <td>0.286915</td>\n",
       "      <td>Summer Tunes</td>\n",
       "      <td>0.132632</td>\n",
       "      <td>Discovered Weekly</td>\n",
       "      <td>0.129641</td>\n",
       "      <td>Lo Moon</td>\n",
       "      <td>Dream Never Dies</td>\n",
       "    </tr>\n",
       "    <tr>\n",
       "      <th>3</th>\n",
       "      <td>Summer Songs</td>\n",
       "      <td>0.702904</td>\n",
       "      <td>80's Hits</td>\n",
       "      <td>0.135461</td>\n",
       "      <td>Chill</td>\n",
       "      <td>0.045541</td>\n",
       "      <td>Nation of Language</td>\n",
       "      <td>Across That Fine Line</td>\n",
       "    </tr>\n",
       "    <tr>\n",
       "      <th>4</th>\n",
       "      <td>Summer Songs</td>\n",
       "      <td>0.123992</td>\n",
       "      <td>Old Summer Stuff</td>\n",
       "      <td>0.121701</td>\n",
       "      <td>Discovered Weekly</td>\n",
       "      <td>0.088711</td>\n",
       "      <td>Harvey Danger</td>\n",
       "      <td>Flagpole Sitta</td>\n",
       "    </tr>\n",
       "  </tbody>\n",
       "</table>\n",
       "</div>"
      ],
      "text/plain": [
       "               first  first_proba               second  second_proba  \\\n",
       "0          80's Hits     0.490375     Guilty Pleasures      0.110621   \n",
       "1  Discovered Weekly     0.336936  Your Top Songs 2019      0.252830   \n",
       "2         Austin 2.0     0.286915         Summer Tunes      0.132632   \n",
       "3       Summer Songs     0.702904            80's Hits      0.135461   \n",
       "4       Summer Songs     0.123992     Old Summer Stuff      0.121701   \n",
       "\n",
       "               third  third_proba         artist name  \\\n",
       "0       Summer Songs     0.110617          Elton John   \n",
       "1        Easy Sunday     0.168270     Brian Protheroe   \n",
       "2  Discovered Weekly     0.129641             Lo Moon   \n",
       "3              Chill     0.045541  Nation of Language   \n",
       "4  Discovered Weekly     0.088711       Harvey Danger   \n",
       "\n",
       "                                   track name  \n",
       "0  All The Girls Love Alice - Remastered 2014  \n",
       "1                                     Pinball  \n",
       "2                            Dream Never Dies  \n",
       "3                       Across That Fine Line  \n",
       "4                              Flagpole Sitta  "
      ]
     },
     "execution_count": 43,
     "metadata": {},
     "output_type": "execute_result"
    }
   ],
   "source": [
    "df.head()"
   ]
  },
  {
   "cell_type": "code",
   "execution_count": 21,
   "metadata": {},
   "outputs": [
    {
     "data": {
      "text/html": [
       "<div>\n",
       "<style scoped>\n",
       "    .dataframe tbody tr th:only-of-type {\n",
       "        vertical-align: middle;\n",
       "    }\n",
       "\n",
       "    .dataframe tbody tr th {\n",
       "        vertical-align: top;\n",
       "    }\n",
       "\n",
       "    .dataframe thead th {\n",
       "        text-align: right;\n",
       "    }\n",
       "</style>\n",
       "<table border=\"1\" class=\"dataframe\">\n",
       "  <thead>\n",
       "    <tr style=\"text-align: right;\">\n",
       "      <th></th>\n",
       "      <th>artist name</th>\n",
       "      <th>track name</th>\n",
       "      <th>first prediction</th>\n",
       "      <th>first prediction proba</th>\n",
       "      <th>second prediction</th>\n",
       "      <th>second prediction proba</th>\n",
       "      <th>third prediction</th>\n",
       "      <th>third prediction proba</th>\n",
       "    </tr>\n",
       "  </thead>\n",
       "  <tbody>\n",
       "    <tr>\n",
       "      <th>471</th>\n",
       "      <td>Shinedown</td>\n",
       "      <td>Cut the Cord</td>\n",
       "      <td>Gym</td>\n",
       "      <td>0.998811</td>\n",
       "      <td>Guilty Pleasures</td>\n",
       "      <td>0.000878</td>\n",
       "      <td>00s house party</td>\n",
       "      <td>0.000157</td>\n",
       "    </tr>\n",
       "    <tr>\n",
       "      <th>454</th>\n",
       "      <td>Kanye West</td>\n",
       "      <td>All Falls Down</td>\n",
       "      <td>Gym</td>\n",
       "      <td>0.995760</td>\n",
       "      <td>Guilty Pleasures</td>\n",
       "      <td>0.001778</td>\n",
       "      <td>Trance</td>\n",
       "      <td>0.001618</td>\n",
       "    </tr>\n",
       "    <tr>\n",
       "      <th>442</th>\n",
       "      <td>The White Stripes</td>\n",
       "      <td>Little Cream Soda</td>\n",
       "      <td>Gym</td>\n",
       "      <td>0.995546</td>\n",
       "      <td>Guilty Pleasures</td>\n",
       "      <td>0.001953</td>\n",
       "      <td>Trance</td>\n",
       "      <td>0.001307</td>\n",
       "    </tr>\n",
       "    <tr>\n",
       "      <th>658</th>\n",
       "      <td>The Magician</td>\n",
       "      <td>Sunlight (feat. Years and Years) - Radio Edit</td>\n",
       "      <td>briz party songz</td>\n",
       "      <td>0.989554</td>\n",
       "      <td>Summer Tunes</td>\n",
       "      <td>0.004005</td>\n",
       "      <td>Trance</td>\n",
       "      <td>0.003944</td>\n",
       "    </tr>\n",
       "    <tr>\n",
       "      <th>494</th>\n",
       "      <td>Kanye West</td>\n",
       "      <td>Famous</td>\n",
       "      <td>Gym</td>\n",
       "      <td>0.989508</td>\n",
       "      <td>Guilty Pleasures</td>\n",
       "      <td>0.006791</td>\n",
       "      <td>Trance</td>\n",
       "      <td>0.002734</td>\n",
       "    </tr>\n",
       "  </tbody>\n",
       "</table>\n",
       "</div>"
      ],
      "text/plain": [
       "           artist name                                     track name  \\\n",
       "471          Shinedown                                   Cut the Cord   \n",
       "454         Kanye West                                 All Falls Down   \n",
       "442  The White Stripes                              Little Cream Soda   \n",
       "658       The Magician  Sunlight (feat. Years and Years) - Radio Edit   \n",
       "494         Kanye West                                         Famous   \n",
       "\n",
       "     first prediction  first prediction proba second prediction  \\\n",
       "471               Gym                0.998811  Guilty Pleasures   \n",
       "454               Gym                0.995760  Guilty Pleasures   \n",
       "442               Gym                0.995546  Guilty Pleasures   \n",
       "658  briz party songz                0.989554      Summer Tunes   \n",
       "494               Gym                0.989508  Guilty Pleasures   \n",
       "\n",
       "     second prediction proba third prediction  third prediction proba  \n",
       "471                 0.000878  00s house party                0.000157  \n",
       "454                 0.001778           Trance                0.001618  \n",
       "442                 0.001953           Trance                0.001307  \n",
       "658                 0.004005           Trance                0.003944  \n",
       "494                 0.006791           Trance                0.002734  "
      ]
     },
     "execution_count": 21,
     "metadata": {},
     "output_type": "execute_result"
    }
   ],
   "source": [
    "df.sort_values(\"first prediction proba\", ascending=False).head()"
   ]
  },
  {
   "cell_type": "markdown",
   "metadata": {},
   "source": [
    "# Filtering\n",
    "\n",
    "If a song already exists in a playlist, it shouldn't be included."
   ]
  },
  {
   "cell_type": "code",
   "execution_count": 46,
   "metadata": {},
   "outputs": [],
   "source": [
    "playlist_df_dir = Path(Path.cwd().parent, \"data\", \"playlist_df.pkl\")\n",
    "playlist_df = pd.read_pickle(playlist_df_dir)"
   ]
  },
  {
   "cell_type": "code",
   "execution_count": 73,
   "metadata": {},
   "outputs": [],
   "source": [
    "# Have to rename the playlist_df columns to match the predictions df for merging\n",
    "playlist_df_filtered = playlist_df[[\"track_names\", \"artist_names\", \"playlist_name\"]]\n",
    "playlist_df_filtered = playlist_df_filtered.rename(\n",
    "    columns={\n",
    "        \"track_names\": \"track name\",\n",
    "        \"artist_names\": \"artist name\",\n",
    "        \"playlist_name\": \"first prediction\",\n",
    "    }\n",
    ")"
   ]
  },
  {
   "cell_type": "code",
   "execution_count": 75,
   "metadata": {},
   "outputs": [],
   "source": [
    "\"\"\" merge the playlist_df with the predictions_df\n",
    "extract tracks that exist in both liked songs and predictions\n",
    "combine the predictions_df with the tracks that exist in both\n",
    "then drop duplicates, leaving only the prediction tracks that dont \n",
    "exist in the liked song df\n",
    "\"\"\"\n",
    "\n",
    "playlist_df_merged = playlist_df_filtered.merge(df, how=\"left\", indicator=True)\n",
    "exist_in_both = playlist_df_merged[playlist_df_merged[\"_merge\"] == \"both\"]\n",
    "final_prediction_df = (\n",
    "    pd.concat([df, exist_in_both])\n",
    "    .drop_duplicates(keep=False, subset=[\"artist name\", \"track name\"])\n",
    "    .drop([\"_merge\",\"first prediction\"], axis=1)\n",
    "    .reset_index(drop=True)\n",
    ")"
   ]
  },
  {
   "cell_type": "code",
   "execution_count": 65,
   "metadata": {},
   "outputs": [
    {
     "data": {
      "text/html": [
       "<div>\n",
       "<style scoped>\n",
       "    .dataframe tbody tr th:only-of-type {\n",
       "        vertical-align: middle;\n",
       "    }\n",
       "\n",
       "    .dataframe tbody tr th {\n",
       "        vertical-align: top;\n",
       "    }\n",
       "\n",
       "    .dataframe thead th {\n",
       "        text-align: right;\n",
       "    }\n",
       "</style>\n",
       "<table border=\"1\" class=\"dataframe\">\n",
       "  <thead>\n",
       "    <tr style=\"text-align: right;\">\n",
       "      <th></th>\n",
       "      <th>first</th>\n",
       "      <th>first_proba</th>\n",
       "      <th>second</th>\n",
       "      <th>second_proba</th>\n",
       "      <th>third</th>\n",
       "      <th>third_proba</th>\n",
       "      <th>artist name</th>\n",
       "      <th>track name</th>\n",
       "    </tr>\n",
       "  </thead>\n",
       "  <tbody>\n",
       "    <tr>\n",
       "      <th>328</th>\n",
       "      <td>Gym</td>\n",
       "      <td>0.996333</td>\n",
       "      <td>Guilty Pleasures</td>\n",
       "      <td>0.001442</td>\n",
       "      <td>00s house party</td>\n",
       "      <td>0.000816</td>\n",
       "      <td>Kanye West</td>\n",
       "      <td>Famous</td>\n",
       "    </tr>\n",
       "    <tr>\n",
       "      <th>156</th>\n",
       "      <td>Summer Tunes</td>\n",
       "      <td>0.992955</td>\n",
       "      <td>Austin</td>\n",
       "      <td>0.002048</td>\n",
       "      <td>Chill</td>\n",
       "      <td>0.001384</td>\n",
       "      <td>Sam Feldt</td>\n",
       "      <td>Start Again</td>\n",
       "    </tr>\n",
       "    <tr>\n",
       "      <th>300</th>\n",
       "      <td>Gym</td>\n",
       "      <td>0.992930</td>\n",
       "      <td>Summer Tunes</td>\n",
       "      <td>0.002107</td>\n",
       "      <td>Guilty Pleasures</td>\n",
       "      <td>0.001538</td>\n",
       "      <td>Jax Jones</td>\n",
       "      <td>You Don't Know Me</td>\n",
       "    </tr>\n",
       "    <tr>\n",
       "      <th>298</th>\n",
       "      <td>Gym</td>\n",
       "      <td>0.992784</td>\n",
       "      <td>briz party songz</td>\n",
       "      <td>0.002090</td>\n",
       "      <td>00s house party</td>\n",
       "      <td>0.001624</td>\n",
       "      <td>Kanye West</td>\n",
       "      <td>Waves</td>\n",
       "    </tr>\n",
       "    <tr>\n",
       "      <th>34</th>\n",
       "      <td>Floyd</td>\n",
       "      <td>0.992685</td>\n",
       "      <td>60s/70s</td>\n",
       "      <td>0.003045</td>\n",
       "      <td>Classic Rock</td>\n",
       "      <td>0.002366</td>\n",
       "      <td>Pink Floyd</td>\n",
       "      <td>Lost for Words</td>\n",
       "    </tr>\n",
       "  </tbody>\n",
       "</table>\n",
       "</div>"
      ],
      "text/plain": [
       "            first  first_proba            second  second_proba  \\\n",
       "328           Gym     0.996333  Guilty Pleasures      0.001442   \n",
       "156  Summer Tunes     0.992955            Austin      0.002048   \n",
       "300           Gym     0.992930      Summer Tunes      0.002107   \n",
       "298           Gym     0.992784  briz party songz      0.002090   \n",
       "34          Floyd     0.992685           60s/70s      0.003045   \n",
       "\n",
       "                third  third_proba artist name         track name  \n",
       "328   00s house party     0.000816  Kanye West             Famous  \n",
       "156             Chill     0.001384   Sam Feldt        Start Again  \n",
       "300  Guilty Pleasures     0.001538   Jax Jones  You Don't Know Me  \n",
       "298   00s house party     0.001624  Kanye West              Waves  \n",
       "34       Classic Rock     0.002366  Pink Floyd     Lost for Words  "
      ]
     },
     "execution_count": 65,
     "metadata": {},
     "output_type": "execute_result"
    }
   ],
   "source": [
    "final_prediction_df.sort_values(by=\"first_proba\", ascending=False).head()"
   ]
  },
  {
   "cell_type": "code",
   "execution_count": 31,
   "metadata": {},
   "outputs": [
    {
     "name": "stdout",
     "output_type": "stream",
     "text": [
      "<class 'pandas.core.frame.DataFrame'>\n",
      "RangeIndex: 506 entries, 0 to 505\n",
      "Data columns (total 8 columns):\n",
      " #   Column                   Non-Null Count  Dtype  \n",
      "---  ------                   --------------  -----  \n",
      " 0   artist name              506 non-null    object \n",
      " 1   track name               506 non-null    object \n",
      " 2   first prediction         506 non-null    object \n",
      " 3   first prediction proba   506 non-null    float32\n",
      " 4   second prediction        506 non-null    object \n",
      " 5   second prediction proba  506 non-null    float32\n",
      " 6   third prediction         506 non-null    object \n",
      " 7   third prediction proba   506 non-null    float32\n",
      "dtypes: float32(3), object(5)\n",
      "memory usage: 25.8+ KB\n"
     ]
    }
   ],
   "source": [
    "final_prediction_df.info()"
   ]
  },
  {
   "cell_type": "markdown",
   "metadata": {},
   "source": [
    "# Prediction Visualization"
   ]
  },
  {
   "cell_type": "code",
   "execution_count": 76,
   "metadata": {},
   "outputs": [],
   "source": [
    "filtered_counts = Counter(final_prediction_df[\"first\"])\n",
    "filtered_plot_data = sorted(\n",
    "    final_prediction_df[\"first\"], key=filtered_counts.get, reverse=True\n",
    ")"
   ]
  },
  {
   "cell_type": "code",
   "execution_count": 77,
   "metadata": {},
   "outputs": [],
   "source": [
    "counts_df = pd.DataFrame.from_dict(filtered_counts, orient=\"index\").reset_index()"
   ]
  },
  {
   "cell_type": "code",
   "execution_count": 78,
   "metadata": {},
   "outputs": [],
   "source": [
    "counts_df.columns = [\"playlist name\", \"count\"]"
   ]
  },
  {
   "cell_type": "code",
   "execution_count": 139,
   "metadata": {},
   "outputs": [
    {
     "data": {
      "text/plain": [
       "Text(0.5, 0, 'Count')"
      ]
     },
     "execution_count": 139,
     "metadata": {},
     "output_type": "execute_result"
    },
    {
     "data": {
      "image/png": "[encoded data removed]",
      "text/plain": [
       "<Figure size 640x480 with 1 Axes>"
      ]
     },
     "metadata": {},
     "output_type": "display_data"
    }
   ],
   "source": [
    "sns.set_theme(style=\"whitegrid\")\n",
    "ax = sns.barplot(x='count', \n",
    "                 y='playlist name', \n",
    "                 data=counts_df.sort_values(by='count'), \n",
    "                 color = '#2FD566')\n",
    "ax.bar_label(ax.containers[0]);\n",
    "ax.set_title(\"Playlist prediction by count\")\n",
    "ax.set_ylabel(\"\")\n",
    "ax.set_xlabel(\"Count\")"
   ]
  },
  {
   "cell_type": "code",
   "execution_count": 136,
   "metadata": {},
   "outputs": [
    {
     "data": {
      "text/plain": [
       "Text(0.5, 1.0, 'Count of predictions by prediction confidence')"
      ]
     },
     "execution_count": 136,
     "metadata": {},
     "output_type": "execute_result"
    },
    {
     "data": {
      "image/png": "[encoded data removed]",
      "text/plain": [
       "<Figure size 1000x500 with 1 Axes>"
      ]
     },
     "metadata": {},
     "output_type": "display_data"
    }
   ],
   "source": [
    "fig, ax = plt.subplots(figsize = (10,5))\n",
    "ax = sns.histplot(data = final_prediction_df, \n",
    "             x = 'first_proba', \n",
    "             kde = True, \n",
    "             bins = 50, \n",
    "             color = '#2FD566', \n",
    "             alpha = 1, )\n",
    "ax.lines[0].set_color('black') #passing kde color to kdekwargs doesnt seem to work\n",
    "ax.set_xlabel('Confidence')\n",
    "ax.set_title(\"Count of predictions by prediction confidence\")"
   ]
  },
  {
   "cell_type": "code",
   "execution_count": null,
   "metadata": {},
   "outputs": [],
   "source": []
  },
  {
   "cell_type": "code",
   "execution_count": null,
   "metadata": {},
   "outputs": [],
   "source": []
  }
 ],
 "metadata": {
  "kernelspec": {
   "display_name": "Python 3.10.4 ('playlist-creator')",
   "language": "python",
   "name": "python3"
  },
  "language_info": {
   "codemirror_mode": {
    "name": "ipython",
    "version": 3
   },
   "file_extension": ".py",
   "mimetype": "text/x-python",
   "name": "python",
   "nbconvert_exporter": "python",
   "pygments_lexer": "ipython3",
   "version": "3.10.4"
  },
  "orig_nbformat": 4,
  "vscode": {
   "interpreter": {
    "hash": "b97f23f03363feb2857c74f4f539da46bfa500aff7c41ef02bb3fdf24f6c2adf"
   }
  }
 },
 "nbformat": 4,
 "nbformat_minor": 2
}
