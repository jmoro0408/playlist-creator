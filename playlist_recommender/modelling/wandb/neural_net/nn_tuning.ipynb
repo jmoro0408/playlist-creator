{
 "cells": [
  {
   "cell_type": "code",
   "execution_count": null,
   "metadata": {},
   "outputs": [],
   "source": [
    "import os\n",
    "import sys\n",
    "import numpy as np\n",
    "import wandb\n",
    "\n",
    "from playlist_recommender.modelling import model_pipeline\n",
    "from playlist_recommender.modelling import utils\n",
    "from sklearn import metrics\n",
    "from keras.models import Sequential\n",
    "from keras.layers import Dense\n",
    "from keras.wrappers.scikit_learn import KerasClassifier\n",
    "from sklearn.preprocessing import LabelEncoder\n",
    "from wandb.keras import WandbCallback\n",
    "import tensorflow as tf\n",
    "from tensorflow import keras\n",
    "from keras import layers\n",
    "from pprint import pprint\n",
    "from sklearn.utils import compute_class_weight\n",
    "from keras.callbacks import EarlyStopping"
   ]
  },
  {
   "cell_type": "code",
   "execution_count": null,
   "metadata": {},
   "outputs": [],
   "source": [
    "X, y = utils.prep_playlist_df()\n",
    "X_train, X_test, y_train, y_test = model_pipeline.make_best_transformation_pipeline(\n",
    "    X, y\n",
    ")\n",
    "X_train.shape, X_test.shape, y_train.shape, y_test.shape,"
   ]
  },
  {
   "cell_type": "code",
   "execution_count": null,
   "metadata": {},
   "outputs": [],
   "source": [
    "le = LabelEncoder()\n",
    "le.fit(y_train)\n",
    "y_train = le.transform(y_train)\n",
    "y_test = le.transform(y_test)"
   ]
  },
  {
   "cell_type": "code",
   "execution_count": null,
   "metadata": {},
   "outputs": [],
   "source": [
    "class_weights = compute_class_weight(class_weight = 'balanced',\n",
    "                                                 classes = np.unique(y_train),\n",
    "                                                 y = y_train)\n",
    "class_weight_dict = dict(enumerate(class_weights))"
   ]
  },
  {
   "cell_type": "markdown",
   "metadata": {},
   "source": [
    "# WandB Sweeps"
   ]
  },
  {
   "cell_type": "code",
   "execution_count": null,
   "metadata": {},
   "outputs": [],
   "source": [
    "sweep_config = {\"method\": \"grid\"}"
   ]
  },
  {
   "cell_type": "code",
   "execution_count": null,
   "metadata": {},
   "outputs": [],
   "source": [
    "metric = {\"name\": \"f1_score\", \"goal\": \"maximize\"}\n",
    "\n",
    "sweep_config[\"metric\"] = metric"
   ]
  },
  {
   "cell_type": "code",
   "execution_count": null,
   "metadata": {},
   "outputs": [],
   "source": [
    "parameters_dict = {\n",
    "    \"fc_layer_size\": {\n",
    "        \"values\": [\n",
    "            128,\n",
    "            256,\n",
    "        ]\n",
    "    },\n",
    "}\n",
    "\n",
    "sweep_config[\"parameters\"] = parameters_dict"
   ]
  },
  {
   "cell_type": "code",
   "execution_count": null,
   "metadata": {},
   "outputs": [],
   "source": [
    "parameters_dict.update(\n",
    "    {\n",
    "        \"epochs\": {\"values\": [5000]},\n",
    "        \"learning_rate\": {\"values\": [0.00001, 0.001, 0.01]},\n",
    "        \"batch_size\": {\"values\": [8,16,32,]},\n",
    "    }\n",
    ")"
   ]
  },
  {
   "cell_type": "code",
   "execution_count": null,
   "metadata": {},
   "outputs": [],
   "source": [
    "pprint(sweep_config)"
   ]
  },
  {
   "cell_type": "code",
   "execution_count": null,
   "metadata": {},
   "outputs": [],
   "source": [
    "sweep_id = wandb.sweep(sweep_config, project=\"spotify-recommender\")"
   ]
  },
  {
   "cell_type": "code",
   "execution_count": null,
   "metadata": {},
   "outputs": [],
   "source": [
    "es = EarlyStopping(monitor='val_loss', mode='min', verbose=1, patience=20, min_delta = 0.0001)\n"
   ]
  },
  {
   "cell_type": "code",
   "execution_count": null,
   "metadata": {},
   "outputs": [],
   "source": [
    "def build_model(fc_layer_size=15):\n",
    "    input_shape = X_train.shape[1]\n",
    "    num_classes = len(le.classes_)\n",
    "    return keras.Sequential(\n",
    "        [\n",
    "            keras.Input(shape=input_shape),\n",
    "            layers.Dense(fc_layer_size, activation=\"relu\"),\n",
    "            layers.Dense(fc_layer_size, activation=\"relu\"),\n",
    "            layers.Dense(fc_layer_size, activation=\"relu\"),\n",
    "            layers.Dense(fc_layer_size, activation=\"relu\"),\n",
    "            layers.Dense(num_classes, activation=\"softmax\"),\n",
    "        ]\n",
    "    )"
   ]
  },
  {
   "cell_type": "code",
   "execution_count": null,
   "metadata": {},
   "outputs": [],
   "source": [
    "def train():\n",
    "    # Specify the hyperparameter to be tuned along with\n",
    "    # an initial value\n",
    "    config_defaults = {\n",
    "        \"epochs\": 30,\n",
    "        \"batch_size\": 8,\n",
    "        \"learning_rate\": 0.01,\n",
    "        \"fc_layer_size\": 15,\n",
    "    }\n",
    "\n",
    "    # Initialize wandb with a sample project name\n",
    "    with wandb.init(\n",
    "        project=\"spotify-recommender\",\n",
    "        tags=[\"nn\"],\n",
    "        name=\"neural network tuning - class weights\",\n",
    "        config=wandb.config,\n",
    "    ):\n",
    "        config = wandb.config\n",
    "        # Iniialize model with hyperparameters\n",
    "        keras.backend.clear_session()\n",
    "        model = build_model(fc_layer_size=wandb.config.fc_layer_size)\n",
    "\n",
    "        # Compile the model\n",
    "        opt = tf.keras.optimizers.Adam(\n",
    "            learning_rate=wandb.config.learning_rate\n",
    "        )  # optimizer with different learning rate specified by config\n",
    "        model.compile(opt, \"sparse_categorical_crossentropy\", metrics=[\"acc\"])\n",
    "\n",
    "        # Train the model\n",
    "        model.fit(\n",
    "            X_train,\n",
    "            y_train,\n",
    "            epochs=wandb.config.epochs,\n",
    "            validation_data=(X_test, y_test),\n",
    "            class_weight = class_weight_dict, \n",
    "            callbacks=[\n",
    "                WandbCallback(\n",
    "                    save_model=False,\n",
    "                    save_graph=False,\n",
    "                    log_weights=False,\n",
    "                    log_gradients=False,\n",
    "                ), \n",
    "                es\n",
    "            ],\n",
    "        )  # WandbCallback to automatically track metrics\n",
    "\n",
    "        y_pred = np.argmax(model.predict(X_test), axis=-1)\n",
    "        f1_score = metrics.f1_score(y_test, y_pred, average=\"macro\", zero_division=0)\n",
    "        accuracy = metrics.accuracy_score(y_test, y_pred)\n",
    "        precision = metrics.precision_score(\n",
    "            y_test, y_pred, average=\"macro\", zero_division=0\n",
    "        )\n",
    "        recall = metrics.recall_score(y_test, y_pred, average=\"macro\")\n",
    "        wandb.log(\n",
    "            {\n",
    "                \"f1_score\": f1_score,\n",
    "                \"accuracy\": accuracy,\n",
    "                \"precision\": precision,\n",
    "                \"recall\": recall,\n",
    "            }\n",
    "        )"
   ]
  },
  {
   "cell_type": "code",
   "execution_count": null,
   "metadata": {},
   "outputs": [],
   "source": [
    "wandb.agent(sweep_id, function=train)"
   ]
  },
  {
   "cell_type": "code",
   "execution_count": null,
   "metadata": {},
   "outputs": [],
   "source": []
  }
 ],
 "metadata": {
  "kernelspec": {
   "display_name": "Python 3.10.4 ('playlist-creator')",
   "language": "python",
   "name": "python3"
  },
  "language_info": {
   "codemirror_mode": {
    "name": "ipython",
    "version": 3
   },
   "file_extension": ".py",
   "mimetype": "text/x-python",
   "name": "python",
   "nbconvert_exporter": "python",
   "pygments_lexer": "ipython3",
   "version": "3.10.4"
  },
  "orig_nbformat": 4,
  "vscode": {
   "interpreter": {
    "hash": "b97f23f03363feb2857c74f4f539da46bfa500aff7c41ef02bb3fdf24f6c2adf"
   }
  }
 },
 "nbformat": 4,
 "nbformat_minor": 2
}
