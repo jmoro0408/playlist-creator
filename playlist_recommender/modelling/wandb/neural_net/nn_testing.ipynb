{
 "cells": [
  {
   "cell_type": "code",
   "execution_count": 44,
   "metadata": {},
   "outputs": [],
   "source": [
    "import os\n",
    "import sys\n",
    "import numpy as np\n",
    "\n",
    "from playlist_recommender.modelling import model_pipeline\n",
    "from playlist_recommender.modelling import utils\n",
    "from sklearn.model_selection import train_test_split, cross_val_score\n",
    "from sklearn.linear_model import LogisticRegression\n",
    "from sklearn import metrics\n",
    "from keras.models import Sequential\n",
    "from keras.layers import Dense\n",
    "from keras.wrappers.scikit_learn import KerasClassifier\n",
    "import tensorflow_addons as tfa\n",
    "from sklearn.preprocessing import LabelEncoder\n",
    "import keras"
   ]
  },
  {
   "cell_type": "code",
   "execution_count": 50,
   "metadata": {},
   "outputs": [
    {
     "data": {
      "text/plain": [
       "((7293, 1049), (3927, 1049), (7293,), (3927,))"
      ]
     },
     "execution_count": 50,
     "metadata": {},
     "output_type": "execute_result"
    }
   ],
   "source": [
    "X, y = utils.prep_playlist_df()\n",
    "X_train, X_test, y_train, y_test = model_pipeline.make_best_transformation_pipeline(\n",
    "    X, y\n",
    ")\n",
    "X_train.shape, X_test.shape, y_train.shape, y_test.shape,"
   ]
  },
  {
   "cell_type": "code",
   "execution_count": 51,
   "metadata": {},
   "outputs": [],
   "source": [
    "le = LabelEncoder()\n",
    "le.fit(y_train)\n",
    "y_train = le.transform(y_train)\n",
    "y_test = le.transform(y_test)"
   ]
  },
  {
   "cell_type": "code",
   "execution_count": 52,
   "metadata": {},
   "outputs": [
    {
     "data": {
      "text/plain": [
       "33"
      ]
     },
     "execution_count": 52,
     "metadata": {},
     "output_type": "execute_result"
    }
   ],
   "source": [
    "len(le.classes_)"
   ]
  },
  {
   "cell_type": "code",
   "execution_count": 56,
   "metadata": {},
   "outputs": [],
   "source": [
    "model = Sequential()\n",
    "model.add(\n",
    "    Dense(15, input_dim=X_train.shape[1], activation=\"relu\")\n",
    ")  # Rectified Linear Unit Activation Function\n",
    "model.add(Dense(15, activation=\"relu\"))\n",
    "model.add(Dense(15, activation=\"relu\"))\n",
    "model.add(\n",
    "    Dense(len(le.classes_), activation=\"softmax\")\n",
    ")  # Softmax for multi-class classification\n",
    "# Compile model here\n",
    "model.compile(\n",
    "    loss=\"sparse_categorical_crossentropy\", optimizer=\"adam\", metrics=[\"accuracy\"]\n",
    ")"
   ]
  },
  {
   "cell_type": "code",
   "execution_count": 57,
   "metadata": {},
   "outputs": [
    {
     "name": "stdout",
     "output_type": "stream",
     "text": [
      "Model: \"sequential_10\"\n",
      "_________________________________________________________________\n",
      " Layer (type)                Output Shape              Param #   \n",
      "=================================================================\n",
      " dense_37 (Dense)            (None, 15)                15750     \n",
      "                                                                 \n",
      " dense_38 (Dense)            (None, 15)                240       \n",
      "                                                                 \n",
      " dense_39 (Dense)            (None, 15)                240       \n",
      "                                                                 \n",
      " dense_40 (Dense)            (None, 33)                528       \n",
      "                                                                 \n",
      "=================================================================\n",
      "Total params: 16,758\n",
      "Trainable params: 16,758\n",
      "Non-trainable params: 0\n",
      "_________________________________________________________________\n"
     ]
    }
   ],
   "source": [
    "model.summary()"
   ]
  },
  {
   "cell_type": "code",
   "execution_count": 58,
   "metadata": {},
   "outputs": [
    {
     "name": "stdout",
     "output_type": "stream",
     "text": [
      "Epoch 1/30\n"
     ]
    },
    {
     "name": "stderr",
     "output_type": "stream",
     "text": [
      "/opt/miniconda3/envs/playlist-creator/lib/python3.10/site-packages/tensorflow/python/framework/indexed_slices.py:444: UserWarning: Converting sparse IndexedSlices(IndexedSlices(indices=Tensor(\"gradient_tape/sequential_10/dense_37/embedding_lookup_sparse/Reshape_1:0\", shape=(None,), dtype=int32), values=Tensor(\"gradient_tape/sequential_10/dense_37/embedding_lookup_sparse/Reshape:0\", shape=(None, 15), dtype=float32), dense_shape=Tensor(\"gradient_tape/sequential_10/dense_37/embedding_lookup_sparse/Cast:0\", shape=(2,), dtype=int32))) to a dense Tensor of unknown shape. This may consume a large amount of memory.\n",
      "  warnings.warn(\n"
     ]
    },
    {
     "name": "stdout",
     "output_type": "stream",
     "text": [
      "228/228 [==============================] - 5s 10ms/step - loss: 3.3956 - accuracy: 0.0976 - val_loss: 3.0412 - val_accuracy: 0.1553\n",
      "Epoch 2/30\n",
      "228/228 [==============================] - 1s 6ms/step - loss: 2.3678 - accuracy: 0.3521 - val_loss: 1.8461 - val_accuracy: 0.5126\n",
      "Epoch 3/30\n",
      "228/228 [==============================] - 1s 6ms/step - loss: 1.5405 - accuracy: 0.6172 - val_loss: 1.3627 - val_accuracy: 0.6669\n",
      "Epoch 4/30\n",
      "228/228 [==============================] - 1s 5ms/step - loss: 1.1633 - accuracy: 0.7334 - val_loss: 1.1184 - val_accuracy: 0.7497\n",
      "Epoch 5/30\n",
      "228/228 [==============================] - 1s 5ms/step - loss: 0.9520 - accuracy: 0.7843 - val_loss: 0.9817 - val_accuracy: 0.7515\n",
      "Epoch 6/30\n",
      "228/228 [==============================] - 1s 5ms/step - loss: 0.8282 - accuracy: 0.8042 - val_loss: 0.8901 - val_accuracy: 0.7823\n",
      "Epoch 7/30\n",
      "228/228 [==============================] - 1s 5ms/step - loss: 0.7411 - accuracy: 0.8276 - val_loss: 0.8455 - val_accuracy: 0.7874\n",
      "Epoch 8/30\n",
      "228/228 [==============================] - 1s 5ms/step - loss: 0.6813 - accuracy: 0.8364 - val_loss: 0.7939 - val_accuracy: 0.8052\n",
      "Epoch 9/30\n",
      "228/228 [==============================] - 2s 8ms/step - loss: 0.6340 - accuracy: 0.8426 - val_loss: 0.7503 - val_accuracy: 0.8067\n",
      "Epoch 10/30\n",
      "228/228 [==============================] - 1s 6ms/step - loss: 0.5978 - accuracy: 0.8501 - val_loss: 0.7369 - val_accuracy: 0.8172\n",
      "Epoch 11/30\n",
      "228/228 [==============================] - 1s 5ms/step - loss: 0.5721 - accuracy: 0.8564 - val_loss: 0.7065 - val_accuracy: 0.8182\n",
      "Epoch 12/30\n",
      "228/228 [==============================] - 1s 5ms/step - loss: 0.5454 - accuracy: 0.8606 - val_loss: 0.6943 - val_accuracy: 0.8253\n",
      "Epoch 13/30\n",
      "228/228 [==============================] - 1s 6ms/step - loss: 0.5269 - accuracy: 0.8596 - val_loss: 0.6929 - val_accuracy: 0.8309\n",
      "Epoch 14/30\n",
      "228/228 [==============================] - 1s 6ms/step - loss: 0.5115 - accuracy: 0.8652 - val_loss: 0.6667 - val_accuracy: 0.8251\n",
      "Epoch 15/30\n",
      "228/228 [==============================] - 1s 6ms/step - loss: 0.4972 - accuracy: 0.8652 - val_loss: 0.6670 - val_accuracy: 0.8268\n",
      "Epoch 16/30\n",
      "228/228 [==============================] - 1s 5ms/step - loss: 0.4845 - accuracy: 0.8675 - val_loss: 0.6601 - val_accuracy: 0.8169\n",
      "Epoch 17/30\n",
      "228/228 [==============================] - 1s 5ms/step - loss: 0.4764 - accuracy: 0.8666 - val_loss: 0.6479 - val_accuracy: 0.8291\n",
      "Epoch 18/30\n",
      "228/228 [==============================] - 1s 6ms/step - loss: 0.4659 - accuracy: 0.8729 - val_loss: 0.6500 - val_accuracy: 0.8309\n",
      "Epoch 19/30\n",
      "228/228 [==============================] - 1s 5ms/step - loss: 0.4567 - accuracy: 0.8729 - val_loss: 0.6263 - val_accuracy: 0.8370\n",
      "Epoch 20/30\n",
      "228/228 [==============================] - 1s 6ms/step - loss: 0.4463 - accuracy: 0.8732 - val_loss: 0.6405 - val_accuracy: 0.8294\n",
      "Epoch 21/30\n",
      "228/228 [==============================] - 1s 6ms/step - loss: 0.4400 - accuracy: 0.8734 - val_loss: 0.6298 - val_accuracy: 0.8291\n",
      "Epoch 22/30\n",
      "228/228 [==============================] - 1s 5ms/step - loss: 0.4335 - accuracy: 0.8748 - val_loss: 0.6258 - val_accuracy: 0.8396\n",
      "Epoch 23/30\n",
      "228/228 [==============================] - 1s 6ms/step - loss: 0.4236 - accuracy: 0.8762 - val_loss: 0.6224 - val_accuracy: 0.8419\n",
      "Epoch 24/30\n",
      "228/228 [==============================] - 1s 5ms/step - loss: 0.4194 - accuracy: 0.8751 - val_loss: 0.6121 - val_accuracy: 0.8439\n",
      "Epoch 25/30\n",
      "228/228 [==============================] - 1s 5ms/step - loss: 0.4131 - accuracy: 0.8785 - val_loss: 0.6107 - val_accuracy: 0.8347\n",
      "Epoch 26/30\n",
      "228/228 [==============================] - 1s 6ms/step - loss: 0.4059 - accuracy: 0.8789 - val_loss: 0.5975 - val_accuracy: 0.8492\n",
      "Epoch 27/30\n",
      "228/228 [==============================] - 1s 5ms/step - loss: 0.4006 - accuracy: 0.8806 - val_loss: 0.6118 - val_accuracy: 0.8396\n",
      "Epoch 28/30\n",
      "228/228 [==============================] - 1s 5ms/step - loss: 0.3900 - accuracy: 0.8859 - val_loss: 0.6042 - val_accuracy: 0.8416\n",
      "Epoch 29/30\n",
      "228/228 [==============================] - 1s 5ms/step - loss: 0.3883 - accuracy: 0.8837 - val_loss: 0.6099 - val_accuracy: 0.8419\n",
      "Epoch 30/30\n",
      "228/228 [==============================] - 1s 6ms/step - loss: 0.3827 - accuracy: 0.8840 - val_loss: 0.5954 - val_accuracy: 0.8482\n"
     ]
    },
    {
     "data": {
      "text/plain": [
       "<keras.callbacks.History at 0x7ffb66911c90>"
      ]
     },
     "execution_count": 58,
     "metadata": {},
     "output_type": "execute_result"
    }
   ],
   "source": [
    "model.fit(\n",
    "    X_train,\n",
    "    y_train,\n",
    "    epochs=30,\n",
    "    verbose=1,\n",
    "    validation_data=(X_test, y_test),\n",
    ")"
   ]
  },
  {
   "cell_type": "code",
   "execution_count": null,
   "metadata": {},
   "outputs": [],
   "source": []
  }
 ],
 "metadata": {
  "kernelspec": {
   "display_name": "Python 3.10.4 ('playlist-creator')",
   "language": "python",
   "name": "python3"
  },
  "language_info": {
   "codemirror_mode": {
    "name": "ipython",
    "version": 3
   },
   "file_extension": ".py",
   "mimetype": "text/x-python",
   "name": "python",
   "nbconvert_exporter": "python",
   "pygments_lexer": "ipython3",
   "version": "3.10.4"
  },
  "orig_nbformat": 4,
  "vscode": {
   "interpreter": {
    "hash": "b97f23f03363feb2857c74f4f539da46bfa500aff7c41ef02bb3fdf24f6c2adf"
   }
  }
 },
 "nbformat": 4,
 "nbformat_minor": 2
}
