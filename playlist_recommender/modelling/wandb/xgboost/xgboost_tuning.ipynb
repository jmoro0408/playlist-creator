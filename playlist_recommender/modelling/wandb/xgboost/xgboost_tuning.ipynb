{
 "cells": [
  {
   "cell_type": "code",
   "execution_count": null,
   "metadata": {},
   "outputs": [],
   "source": [
    "import os\n",
    "import sys\n",
    "import numpy as np\n",
    "import wandb\n",
    "\n",
    "from playlist_recommender.modelling import model_pipeline\n",
    "from playlist_recommender.modelling import utils\n",
    "from sklearn.model_selection import train_test_split, cross_val_score\n",
    "from sklearn import metrics\n",
    "from xgboost import XGBClassifier\n",
    "from sklearn.preprocessing import LabelEncoder\n",
    "from sklearn.utils import compute_class_weight "
   ]
  },
  {
   "cell_type": "code",
   "execution_count": null,
   "metadata": {},
   "outputs": [],
   "source": [
    "X, y = utils.prep_playlist_df()\n",
    "X_train, X_test, y_train, y_test = model_pipeline.make_best_transformation_pipeline(\n",
    "    X, y\n",
    ")\n",
    "X_train.shape, X_test.shape, y_train.shape, y_test.shape,"
   ]
  },
  {
   "cell_type": "code",
   "execution_count": null,
   "metadata": {},
   "outputs": [],
   "source": [
    "le = LabelEncoder()\n",
    "le.fit(y_train)\n",
    "# XGBoost requires labelled targets\n",
    "\n",
    "y_train = le.transform(y_train)\n",
    "y_test = le.transform(y_test)"
   ]
  },
  {
   "cell_type": "code",
   "execution_count": null,
   "metadata": {},
   "outputs": [],
   "source": [
    "class_weights = compute_class_weight(class_weight = 'balanced',\n",
    "                                                 classes = np.unique(y_train),\n",
    "                                                 y = y_train)\n",
    "class_weight_dict = dict(enumerate(class_weights))"
   ]
  },
  {
   "cell_type": "code",
   "execution_count": null,
   "metadata": {},
   "outputs": [],
   "source": [
    "train_dict_weights = []\n",
    "for train in y_train:\n",
    "    train_dict_weights.append(class_weight_dict[train])\n",
    "\n",
    "#XGBoost needs a weight per row, not per target feature\n",
    "    \n",
    "test_dict_weights = []\n",
    "for test in y_test:\n",
    "    test_dict_weights.append(class_weight_dict[test])"
   ]
  },
  {
   "cell_type": "code",
   "execution_count": null,
   "metadata": {},
   "outputs": [],
   "source": [
    "assert(len(train_dict_weights) == y_train.shape[0])\n",
    "assert(len(test_dict_weights) == y_test.shape[0])"
   ]
  },
  {
   "cell_type": "markdown",
   "metadata": {},
   "source": [
    "# Sweeps"
   ]
  },
  {
   "cell_type": "code",
   "execution_count": null,
   "metadata": {},
   "outputs": [],
   "source": [
    "sweep_config = {\n",
    "    \"method\": \"bayes\",  # try grid or random\n",
    "    \"metric\": {\"name\": \"f1_score\", \"goal\": \"maximize\"},\n",
    "    \"parameters\": {\n",
    "        \"booster\": {\"values\": [\"gbtree\", \"gblinear\"]},\n",
    "        \"max_depth\": {\"values\": [3, 6, 9, 12]},\n",
    "        \"learning_rate\": {\"values\": [0.1, 0.05, 0.2]},\n",
    "        \"subsample\": {\"values\": [1, 0.5, 0.3]},\n",
    "    },\n",
    "}"
   ]
  },
  {
   "cell_type": "code",
   "execution_count": null,
   "metadata": {},
   "outputs": [],
   "source": [
    "sweep_id = wandb.sweep(sweep_config, project=\"spotify-recommender\")"
   ]
  },
  {
   "cell_type": "code",
   "execution_count": null,
   "metadata": {},
   "outputs": [],
   "source": [
    "def train():\n",
    "    config_defaults = {\n",
    "        \"booster\": \"gbtree\",\n",
    "        \"max_depth\": 3,\n",
    "        \"learning_rate\": 0.1,\n",
    "        \"subsample\": 1,\n",
    "    }\n",
    "    with wandb.init(\n",
    "        project=\"spotify-recommender\",\n",
    "        tags=[\"xgboost\"],\n",
    "        name=\"XGBoost tuning - Class weights\",\n",
    "        config=config_defaults,\n",
    "    ):\n",
    "        config = wandb.config\n",
    "        # fit model on train\n",
    "        model = XGBClassifier(\n",
    "            booster=config.booster,\n",
    "            max_depth=config.max_depth,\n",
    "            learning_rate=config.learning_rate,\n",
    "            subsample=config.subsample,\n",
    "        )\n",
    "        model.fit(X_train, y_train, \n",
    "                sample_weight = train_dict_weights,\n",
    "                eval_set = [(X_test,y_test)], \n",
    "                sample_weight_eval_set = [test_dict_weights], \n",
    "                verbose = False)\n",
    "\n",
    "        # make predictions on test\n",
    "        y_pred = model.predict(X_test)\n",
    "\n",
    "        # evaluate predictions\n",
    "        f1_score = metrics.f1_score(y_test, y_pred, average=\"macro\", zero_division=0)\n",
    "        accuracy = metrics.accuracy_score(y_test, y_pred)\n",
    "        precision = metrics.precision_score(\n",
    "            y_test, y_pred, average=\"macro\", zero_division=0\n",
    "        )\n",
    "        recall = metrics.recall_score(y_test, y_pred, average=\"macro\")\n",
    "        wandb.log(\n",
    "            {\n",
    "                \"f1_score\": f1_score,\n",
    "                \"accuracy\": accuracy,\n",
    "                \"precision\": precision,\n",
    "                \"recall\": recall,\n",
    "            }\n",
    "        )"
   ]
  },
  {
   "cell_type": "code",
   "execution_count": null,
   "metadata": {},
   "outputs": [],
   "source": [
    "wandb.agent(sweep_id, train)"
   ]
  },
  {
   "cell_type": "code",
   "execution_count": null,
   "metadata": {},
   "outputs": [],
   "source": []
  }
 ],
 "metadata": {
  "kernelspec": {
   "display_name": "Python 3.10.4 ('playlist-creator')",
   "language": "python",
   "name": "python3"
  },
  "language_info": {
   "codemirror_mode": {
    "name": "ipython",
    "version": 3
   },
   "file_extension": ".py",
   "mimetype": "text/x-python",
   "name": "python",
   "nbconvert_exporter": "python",
   "pygments_lexer": "ipython3",
   "version": "3.10.4"
  },
  "orig_nbformat": 4,
  "vscode": {
   "interpreter": {
    "hash": "b97f23f03363feb2857c74f4f539da46bfa500aff7c41ef02bb3fdf24f6c2adf"
   }
  }
 },
 "nbformat": 4,
 "nbformat_minor": 2
}
