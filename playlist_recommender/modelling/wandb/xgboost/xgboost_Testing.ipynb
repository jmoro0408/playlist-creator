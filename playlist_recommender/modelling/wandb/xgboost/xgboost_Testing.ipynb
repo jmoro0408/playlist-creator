{
 "cells": [
  {
   "cell_type": "code",
   "execution_count": 2,
   "metadata": {},
   "outputs": [],
   "source": [
    "import os\n",
    "import sys\n",
    "import numpy as np\n",
    "\n",
    "from playlist_recommender.modelling import model_pipeline\n",
    "from playlist_recommender.modelling import utils\n",
    "from sklearn.model_selection import train_test_split, cross_val_score\n",
    "from sklearn import metrics\n",
    "from xgboost import XGBClassifier\n",
    "from sklearn.preprocessing import LabelEncoder\n",
    "from sklearn.utils import compute_class_weight "
   ]
  },
  {
   "cell_type": "code",
   "execution_count": 3,
   "metadata": {},
   "outputs": [
    {
     "name": "stdout",
     "output_type": "stream",
     "text": [
      "pipeline dumped\n"
     ]
    },
    {
     "data": {
      "text/plain": [
       "((1571, 862), (846, 862), (1571,), (846,))"
      ]
     },
     "execution_count": 3,
     "metadata": {},
     "output_type": "execute_result"
    }
   ],
   "source": [
    "X, y = utils.prep_playlist_df()\n",
    "X_train, X_test, y_train, y_test = model_pipeline.make_best_transformation_pipeline(\n",
    "    X, y\n",
    ")\n",
    "X_train.shape, X_test.shape, y_train.shape, y_test.shape,"
   ]
  },
  {
   "cell_type": "code",
   "execution_count": 4,
   "metadata": {},
   "outputs": [],
   "source": [
    "le = LabelEncoder()\n",
    "le.fit(y_train)\n",
    "y_train = le.transform(y_train)\n",
    "y_test = le.transform(y_test)"
   ]
  },
  {
   "cell_type": "code",
   "execution_count": 6,
   "metadata": {},
   "outputs": [],
   "source": [
    "class_weights = compute_class_weight(class_weight = 'balanced',\n",
    "                                                 classes = np.unique(y_train),\n",
    "                                                 y = y_train)\n",
    "class_weight_dict = dict(enumerate(class_weights))"
   ]
  },
  {
   "cell_type": "code",
   "execution_count": 14,
   "metadata": {},
   "outputs": [],
   "source": [
    "train_dict_weights = []\n",
    "for train in y_train:\n",
    "    train_dict_weights.append(class_weight_dict[train])\n",
    "\n",
    "#XGBoost needs a weight per row, not per target feature\n",
    "    \n",
    "test_dict_weights = []\n",
    "for test in y_test:\n",
    "    test_dict_weights.append(class_weight_dict[test])"
   ]
  },
  {
   "cell_type": "code",
   "execution_count": 15,
   "metadata": {},
   "outputs": [],
   "source": [
    "assert(len(train_dict_weights) == y_train.shape[0])"
   ]
  },
  {
   "cell_type": "code",
   "execution_count": 17,
   "metadata": {},
   "outputs": [],
   "source": [
    "assert(len(test_dict_weights) == y_test.shape[0])"
   ]
  },
  {
   "cell_type": "code",
   "execution_count": 25,
   "metadata": {},
   "outputs": [
    {
     "name": "stdout",
     "output_type": "stream",
     "text": [
      "[0]\tvalidation_0-merror:0.71243\tvalidation_0-mlogloss:3.25596\n",
      "[1]\tvalidation_0-merror:0.67740\tvalidation_0-mlogloss:3.11137\n",
      "[2]\tvalidation_0-merror:0.67030\tvalidation_0-mlogloss:3.01127\n",
      "[3]\tvalidation_0-merror:0.65846\tvalidation_0-mlogloss:2.92878\n",
      "[4]\tvalidation_0-merror:0.65979\tvalidation_0-mlogloss:2.86800\n",
      "[5]\tvalidation_0-merror:0.65461\tvalidation_0-mlogloss:2.82204\n",
      "[6]\tvalidation_0-merror:0.66680\tvalidation_0-mlogloss:2.77730\n",
      "[7]\tvalidation_0-merror:0.67217\tvalidation_0-mlogloss:2.73832\n",
      "[8]\tvalidation_0-merror:0.66806\tvalidation_0-mlogloss:2.70191\n",
      "[9]\tvalidation_0-merror:0.66355\tvalidation_0-mlogloss:2.66614\n",
      "[10]\tvalidation_0-merror:0.66426\tvalidation_0-mlogloss:2.64030\n",
      "[11]\tvalidation_0-merror:0.66169\tvalidation_0-mlogloss:2.61363\n",
      "[12]\tvalidation_0-merror:0.66395\tvalidation_0-mlogloss:2.58709\n",
      "[13]\tvalidation_0-merror:0.65737\tvalidation_0-mlogloss:2.56537\n",
      "[14]\tvalidation_0-merror:0.66212\tvalidation_0-mlogloss:2.54362\n",
      "[15]\tvalidation_0-merror:0.66003\tvalidation_0-mlogloss:2.52679\n",
      "[16]\tvalidation_0-merror:0.65686\tvalidation_0-mlogloss:2.50808\n",
      "[17]\tvalidation_0-merror:0.66156\tvalidation_0-mlogloss:2.49283\n",
      "[18]\tvalidation_0-merror:0.65703\tvalidation_0-mlogloss:2.47624\n",
      "[19]\tvalidation_0-merror:0.65011\tvalidation_0-mlogloss:2.46350\n",
      "[20]\tvalidation_0-merror:0.65624\tvalidation_0-mlogloss:2.45361\n",
      "[21]\tvalidation_0-merror:0.65989\tvalidation_0-mlogloss:2.44140\n",
      "[22]\tvalidation_0-merror:0.66569\tvalidation_0-mlogloss:2.43032\n",
      "[23]\tvalidation_0-merror:0.66091\tvalidation_0-mlogloss:2.42304\n",
      "[24]\tvalidation_0-merror:0.65058\tvalidation_0-mlogloss:2.41060\n",
      "[25]\tvalidation_0-merror:0.65673\tvalidation_0-mlogloss:2.40346\n",
      "[26]\tvalidation_0-merror:0.65536\tvalidation_0-mlogloss:2.39299\n",
      "[27]\tvalidation_0-merror:0.65823\tvalidation_0-mlogloss:2.39087\n",
      "[28]\tvalidation_0-merror:0.65958\tvalidation_0-mlogloss:2.38332\n",
      "[29]\tvalidation_0-merror:0.66453\tvalidation_0-mlogloss:2.37735\n",
      "[30]\tvalidation_0-merror:0.66509\tvalidation_0-mlogloss:2.37271\n",
      "[31]\tvalidation_0-merror:0.66435\tvalidation_0-mlogloss:2.36903\n",
      "[32]\tvalidation_0-merror:0.66440\tvalidation_0-mlogloss:2.36629\n",
      "[33]\tvalidation_0-merror:0.66493\tvalidation_0-mlogloss:2.36560\n",
      "[34]\tvalidation_0-merror:0.66492\tvalidation_0-mlogloss:2.35798\n",
      "[35]\tvalidation_0-merror:0.66492\tvalidation_0-mlogloss:2.35375\n",
      "[36]\tvalidation_0-merror:0.66621\tvalidation_0-mlogloss:2.35082\n",
      "[37]\tvalidation_0-merror:0.66729\tvalidation_0-mlogloss:2.34743\n",
      "[38]\tvalidation_0-merror:0.66640\tvalidation_0-mlogloss:2.34299\n",
      "[39]\tvalidation_0-merror:0.66491\tvalidation_0-mlogloss:2.34121\n",
      "[40]\tvalidation_0-merror:0.66818\tvalidation_0-mlogloss:2.33692\n",
      "[41]\tvalidation_0-merror:0.66620\tvalidation_0-mlogloss:2.33490\n",
      "[42]\tvalidation_0-merror:0.66717\tvalidation_0-mlogloss:2.33437\n",
      "[43]\tvalidation_0-merror:0.66697\tvalidation_0-mlogloss:2.33454\n",
      "[44]\tvalidation_0-merror:0.66957\tvalidation_0-mlogloss:2.33239\n",
      "[45]\tvalidation_0-merror:0.67255\tvalidation_0-mlogloss:2.33184\n",
      "[46]\tvalidation_0-merror:0.67435\tvalidation_0-mlogloss:2.33016\n",
      "[47]\tvalidation_0-merror:0.66140\tvalidation_0-mlogloss:2.32655\n",
      "[48]\tvalidation_0-merror:0.66637\tvalidation_0-mlogloss:2.32701\n",
      "[49]\tvalidation_0-merror:0.66039\tvalidation_0-mlogloss:2.32810\n",
      "[50]\tvalidation_0-merror:0.65647\tvalidation_0-mlogloss:2.32928\n",
      "[51]\tvalidation_0-merror:0.65430\tvalidation_0-mlogloss:2.32850\n",
      "[52]\tvalidation_0-merror:0.65085\tvalidation_0-mlogloss:2.32941\n",
      "[53]\tvalidation_0-merror:0.65383\tvalidation_0-mlogloss:2.32891\n",
      "[54]\tvalidation_0-merror:0.65154\tvalidation_0-mlogloss:2.32681\n",
      "[55]\tvalidation_0-merror:0.65296\tvalidation_0-mlogloss:2.32799\n",
      "[56]\tvalidation_0-merror:0.65462\tvalidation_0-mlogloss:2.32975\n",
      "[57]\tvalidation_0-merror:0.65142\tvalidation_0-mlogloss:2.33140\n",
      "[58]\tvalidation_0-merror:0.65447\tvalidation_0-mlogloss:2.33432\n",
      "[59]\tvalidation_0-merror:0.65537\tvalidation_0-mlogloss:2.33562\n",
      "[60]\tvalidation_0-merror:0.65033\tvalidation_0-mlogloss:2.33350\n",
      "[61]\tvalidation_0-merror:0.65314\tvalidation_0-mlogloss:2.33495\n",
      "[62]\tvalidation_0-merror:0.65078\tvalidation_0-mlogloss:2.33600\n",
      "[63]\tvalidation_0-merror:0.66003\tvalidation_0-mlogloss:2.33755\n",
      "[64]\tvalidation_0-merror:0.65138\tvalidation_0-mlogloss:2.34115\n",
      "[65]\tvalidation_0-merror:0.65238\tvalidation_0-mlogloss:2.34216\n",
      "[66]\tvalidation_0-merror:0.65252\tvalidation_0-mlogloss:2.34657\n",
      "[67]\tvalidation_0-merror:0.64804\tvalidation_0-mlogloss:2.34899\n",
      "[68]\tvalidation_0-merror:0.65040\tvalidation_0-mlogloss:2.35307\n",
      "[69]\tvalidation_0-merror:0.65355\tvalidation_0-mlogloss:2.35196\n",
      "[70]\tvalidation_0-merror:0.65254\tvalidation_0-mlogloss:2.35247\n",
      "[71]\tvalidation_0-merror:0.65012\tvalidation_0-mlogloss:2.35582\n",
      "[72]\tvalidation_0-merror:0.64696\tvalidation_0-mlogloss:2.35777\n",
      "[73]\tvalidation_0-merror:0.64983\tvalidation_0-mlogloss:2.36053\n",
      "[74]\tvalidation_0-merror:0.65059\tvalidation_0-mlogloss:2.36282\n",
      "[75]\tvalidation_0-merror:0.65259\tvalidation_0-mlogloss:2.36390\n",
      "[76]\tvalidation_0-merror:0.65061\tvalidation_0-mlogloss:2.36530\n",
      "[77]\tvalidation_0-merror:0.64997\tvalidation_0-mlogloss:2.36881\n",
      "[78]\tvalidation_0-merror:0.65286\tvalidation_0-mlogloss:2.37057\n",
      "[79]\tvalidation_0-merror:0.65489\tvalidation_0-mlogloss:2.37126\n",
      "[80]\tvalidation_0-merror:0.65617\tvalidation_0-mlogloss:2.37379\n",
      "[81]\tvalidation_0-merror:0.65373\tvalidation_0-mlogloss:2.37577\n",
      "[82]\tvalidation_0-merror:0.66007\tvalidation_0-mlogloss:2.37953\n",
      "[83]\tvalidation_0-merror:0.65534\tvalidation_0-mlogloss:2.38059\n",
      "[84]\tvalidation_0-merror:0.66178\tvalidation_0-mlogloss:2.38030\n",
      "[85]\tvalidation_0-merror:0.66203\tvalidation_0-mlogloss:2.38353\n",
      "[86]\tvalidation_0-merror:0.65730\tvalidation_0-mlogloss:2.38468\n",
      "[87]\tvalidation_0-merror:0.65796\tvalidation_0-mlogloss:2.38687\n",
      "[88]\tvalidation_0-merror:0.65796\tvalidation_0-mlogloss:2.38897\n",
      "[89]\tvalidation_0-merror:0.66680\tvalidation_0-mlogloss:2.39286\n",
      "[90]\tvalidation_0-merror:0.66730\tvalidation_0-mlogloss:2.39201\n",
      "[91]\tvalidation_0-merror:0.67089\tvalidation_0-mlogloss:2.39147\n",
      "[92]\tvalidation_0-merror:0.66875\tvalidation_0-mlogloss:2.39311\n",
      "[93]\tvalidation_0-merror:0.67024\tvalidation_0-mlogloss:2.39469\n",
      "[94]\tvalidation_0-merror:0.67107\tvalidation_0-mlogloss:2.39893\n",
      "[95]\tvalidation_0-merror:0.67270\tvalidation_0-mlogloss:2.39906\n",
      "[96]\tvalidation_0-merror:0.67351\tvalidation_0-mlogloss:2.39928\n",
      "[97]\tvalidation_0-merror:0.67867\tvalidation_0-mlogloss:2.40299\n",
      "[98]\tvalidation_0-merror:0.67955\tvalidation_0-mlogloss:2.40304\n",
      "[99]\tvalidation_0-merror:0.67903\tvalidation_0-mlogloss:2.40662\n"
     ]
    }
   ],
   "source": [
    "# load data\n",
    "config_defaults = {\n",
    "    \"booster\": \"gbtree\",\n",
    "    \"max_depth\": 3,\n",
    "    \"learning_rate\": 0.1,\n",
    "    \"subsample\": 1,\n",
    "}\n",
    "# fit model on train\n",
    "model = XGBClassifier(\n",
    "    booster=config_defaults[\"booster\"],\n",
    "    max_depth=config_defaults[\"max_depth\"],\n",
    "    learning_rate=config_defaults[\"learning_rate\"],\n",
    "    subsample=config_defaults[\"subsample\"],\n",
    "     eval_metric=['merror','mlogloss']\n",
    ")\n",
    "model.fit(X_train, y_train, \n",
    "          sample_weight = train_dict_weights,\n",
    "          eval_set = [(X_test,y_test)], \n",
    "          sample_weight_eval_set = [test_dict_weights])\n",
    "\n",
    "# make predictions on test\n",
    "y_pred = model.predict(X_test)"
   ]
  },
  {
   "cell_type": "code",
   "execution_count": 26,
   "metadata": {},
   "outputs": [],
   "source": [
    "f1_score = metrics.f1_score(y_test, y_pred, average=\"macro\", zero_division=0)\n",
    "accuracy = metrics.accuracy_score(y_test, y_pred)\n",
    "precision = metrics.precision_score(y_test, y_pred, average=\"macro\", zero_division=0)\n",
    "recall = metrics.recall_score(y_test, y_pred, average=\"macro\")"
   ]
  },
  {
   "cell_type": "code",
   "execution_count": 27,
   "metadata": {},
   "outputs": [
    {
     "data": {
      "text/plain": [
       "(0.2942595228672323,\n",
       " 0.2907801418439716,\n",
       " 0.292014687760366,\n",
       " 0.32174085063768054)"
      ]
     },
     "execution_count": 27,
     "metadata": {},
     "output_type": "execute_result"
    }
   ],
   "source": [
    "f1_score, accuracy, precision, recall"
   ]
  },
  {
   "cell_type": "code",
   "execution_count": null,
   "metadata": {},
   "outputs": [],
   "source": []
  }
 ],
 "metadata": {
  "kernelspec": {
   "display_name": "Python 3.10.4 ('playlist-creator')",
   "language": "python",
   "name": "python3"
  },
  "language_info": {
   "codemirror_mode": {
    "name": "ipython",
    "version": 3
   },
   "file_extension": ".py",
   "mimetype": "text/x-python",
   "name": "python",
   "nbconvert_exporter": "python",
   "pygments_lexer": "ipython3",
   "version": "3.10.4"
  },
  "orig_nbformat": 4,
  "vscode": {
   "interpreter": {
    "hash": "b97f23f03363feb2857c74f4f539da46bfa500aff7c41ef02bb3fdf24f6c2adf"
   }
  }
 },
 "nbformat": 4,
 "nbformat_minor": 2
}
